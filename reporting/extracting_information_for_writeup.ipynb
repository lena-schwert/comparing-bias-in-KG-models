{
 "cells": [
  {
   "cell_type": "code",
   "execution_count": 11,
   "metadata": {
    "collapsed": true,
    "pycharm": {
     "name": "#%%\n"
    }
   },
   "outputs": [],
   "source": [
    "import os\n",
    "import pandas as pd\n",
    "import numpy as np"
   ]
  },
  {
   "cell_type": "markdown",
   "source": [
    "## Extracting missing dataset statistics from v4 subset - 4.6.22"
   ],
   "metadata": {
    "collapsed": false,
    "pycharm": {
     "name": "#%% md\n"
    }
   }
  },
  {
   "cell_type": "code",
   "execution_count": 3,
   "outputs": [
    {
     "data": {
      "text/plain": "  head_entity relation tail_entity\n0   Q18924322    P1344   Q11886402\n1    Q4274840     P735    Q4927524\n2    Q6124446      P54    Q1186020\n3    Q3058238     P136      Q76092\n4    Q4353413     P106     Q488111",
      "text/html": "<div>\n<style scoped>\n    .dataframe tbody tr th:only-of-type {\n        vertical-align: middle;\n    }\n\n    .dataframe tbody tr th {\n        vertical-align: top;\n    }\n\n    .dataframe thead th {\n        text-align: right;\n    }\n</style>\n<table border=\"1\" class=\"dataframe\">\n  <thead>\n    <tr style=\"text-align: right;\">\n      <th></th>\n      <th>head_entity</th>\n      <th>relation</th>\n      <th>tail_entity</th>\n    </tr>\n  </thead>\n  <tbody>\n    <tr>\n      <th>0</th>\n      <td>Q18924322</td>\n      <td>P1344</td>\n      <td>Q11886402</td>\n    </tr>\n    <tr>\n      <th>1</th>\n      <td>Q4274840</td>\n      <td>P735</td>\n      <td>Q4927524</td>\n    </tr>\n    <tr>\n      <th>2</th>\n      <td>Q6124446</td>\n      <td>P54</td>\n      <td>Q1186020</td>\n    </tr>\n    <tr>\n      <th>3</th>\n      <td>Q3058238</td>\n      <td>P136</td>\n      <td>Q76092</td>\n    </tr>\n    <tr>\n      <th>4</th>\n      <td>Q4353413</td>\n      <td>P106</td>\n      <td>Q488111</td>\n    </tr>\n  </tbody>\n</table>\n</div>"
     },
     "execution_count": 3,
     "metadata": {},
     "output_type": "execute_result"
    }
   ],
   "source": [
    "dataset_v4 = pd.read_csv('/home/lena/git/master_thesis_bias_in_NLP/data/processed/output_of_preprocessing/wikidata5M_human_facts_subset_060522_v4.tsv',\n",
    "                         sep = '\\t', names = ['head_entity', 'relation', 'tail_entity'])\n",
    "dataset_v4.head()"
   ],
   "metadata": {
    "collapsed": false,
    "pycharm": {
     "name": "#%%\n"
    }
   }
  },
  {
   "cell_type": "code",
   "execution_count": 7,
   "outputs": [
    {
     "name": "stdout",
     "output_type": "stream",
     "text": [
      "Number of unique head entities (= human entities): 1269907\n",
      "Number of unique tail entities: 177143\n",
      "Total number of entities: 1396220\n",
      "Total number of relations: 225\n",
      "Total number of triples: 3101160\n"
     ]
    }
   ],
   "source": [
    "set_of_head_entities = set(dataset_v4['head_entity'])\n",
    "set_of_tail_entities = set(dataset_v4['tail_entity'])\n",
    "set_of_all_QIDs = set_of_head_entities.union(set_of_tail_entities)\n",
    "print(f'Number of unique head entities (= human entities): {len(set_of_head_entities)}')\n",
    "print(f'Number of unique tail entities: {len(set_of_tail_entities)}')\n",
    "print(f'Total number of entities: {(len(set_of_all_QIDs))}')\n",
    "set_of_all_PIDs = set(dataset_v4['relation'])\n",
    "print(f'Total number of relations: {(len(set_of_all_PIDs))}')\n",
    "print(f'Total number of triples: {(len(dataset_v4))}')"
   ],
   "metadata": {
    "collapsed": false,
    "pycharm": {
     "name": "#%%\n"
    }
   }
  },
  {
   "cell_type": "markdown",
   "source": [
    "## Calculate tail accuracy metrics for the KG only FB15k-237 models based on the result sheets - 4.6.22"
   ],
   "metadata": {
    "collapsed": false,
    "pycharm": {
     "name": "#%% md\n"
    }
   }
  },
  {
   "cell_type": "code",
   "execution_count": 8,
   "outputs": [],
   "source": [
    "path_to_results = '/home/lena/git/master_thesis_bias_in_NLP/results/KG_only/Rossi_models_FB15K-237/'"
   ],
   "metadata": {
    "collapsed": false,
    "pycharm": {
     "name": "#%%\n"
    }
   }
  },
  {
   "cell_type": "markdown",
   "source": [
    "### TransE"
   ],
   "metadata": {
    "collapsed": false,
    "pycharm": {
     "name": "#%% md\n"
    }
   }
  },
  {
   "cell_type": "code",
   "execution_count": 10,
   "outputs": [
    {
     "data": {
      "text/plain": "      head_id                                        relation_id true_tail_id  \\\n0    /m/08966  /travel/travel_destination/climate./travel/tra...     /m/05lf_   \n1   /m/01hww_  /music/performance_role/regular_performances./...    /m/01q99h   \n2  /m/09v3jyg  /film/film/release_date_s./film/film_regional_...    /m/0f8l9c   \n3    /m/02jx1                        /location/location/contains    /m/013t85   \n4    /m/02jx1                        /location/location/contains     /m/0m0bj   \n\n   rank_head  rank_tail  \n0          1          1  \n1         17         48  \n2         13          2  \n3          2       1290  \n4          2        114  ",
      "text/html": "<div>\n<style scoped>\n    .dataframe tbody tr th:only-of-type {\n        vertical-align: middle;\n    }\n\n    .dataframe tbody tr th {\n        vertical-align: top;\n    }\n\n    .dataframe thead th {\n        text-align: right;\n    }\n</style>\n<table border=\"1\" class=\"dataframe\">\n  <thead>\n    <tr style=\"text-align: right;\">\n      <th></th>\n      <th>head_id</th>\n      <th>relation_id</th>\n      <th>true_tail_id</th>\n      <th>rank_head</th>\n      <th>rank_tail</th>\n    </tr>\n  </thead>\n  <tbody>\n    <tr>\n      <th>0</th>\n      <td>/m/08966</td>\n      <td>/travel/travel_destination/climate./travel/tra...</td>\n      <td>/m/05lf_</td>\n      <td>1</td>\n      <td>1</td>\n    </tr>\n    <tr>\n      <th>1</th>\n      <td>/m/01hww_</td>\n      <td>/music/performance_role/regular_performances./...</td>\n      <td>/m/01q99h</td>\n      <td>17</td>\n      <td>48</td>\n    </tr>\n    <tr>\n      <th>2</th>\n      <td>/m/09v3jyg</td>\n      <td>/film/film/release_date_s./film/film_regional_...</td>\n      <td>/m/0f8l9c</td>\n      <td>13</td>\n      <td>2</td>\n    </tr>\n    <tr>\n      <th>3</th>\n      <td>/m/02jx1</td>\n      <td>/location/location/contains</td>\n      <td>/m/013t85</td>\n      <td>2</td>\n      <td>1290</td>\n    </tr>\n    <tr>\n      <th>4</th>\n      <td>/m/02jx1</td>\n      <td>/location/location/contains</td>\n      <td>/m/0m0bj</td>\n      <td>2</td>\n      <td>114</td>\n    </tr>\n  </tbody>\n</table>\n</div>"
     },
     "execution_count": 10,
     "metadata": {},
     "output_type": "execute_result"
    }
   ],
   "source": [
    "raw_file_Rossi_FB15k237 = pd.read_csv(os.path.join(path_to_results, 'TransE/transe_filtered_ranks.csv'),\n",
    "                                      sep = ';',\n",
    "                                      names = ['head_id', 'relation_id', 'true_tail_id',\n",
    "                                               'rank_head', 'rank_tail'])\n",
    "raw_file_Rossi_FB15k237.head()"
   ],
   "metadata": {
    "collapsed": false,
    "pycharm": {
     "name": "#%%\n"
    }
   }
  },
  {
   "cell_type": "code",
   "execution_count": 18,
   "outputs": [
    {
     "name": "stdout",
     "output_type": "stream",
     "text": [
      "mean rank head: 281.0699187787455\n",
      "mean rank tail: 136.74904589490166\n",
      "mean rank both: 208.90948233682357\n"
     ]
    }
   ],
   "source": [
    "mean_rank_head = raw_file_Rossi_FB15k237['rank_head'].mean()\n",
    "mean_rank_tail = raw_file_Rossi_FB15k237['rank_tail'].mean()\n",
    "mean_rank_both = np.mean([raw_file_Rossi_FB15k237['rank_head'], raw_file_Rossi_FB15k237['rank_tail']])\n",
    "print(f'mean rank head: {mean_rank_head}')\n",
    "print(f'mean rank tail: {mean_rank_tail}')\n",
    "print(f'mean rank both: {mean_rank_both}')"
   ],
   "metadata": {
    "collapsed": false,
    "pycharm": {
     "name": "#%%\n"
    }
   }
  },
  {
   "cell_type": "code",
   "execution_count": 23,
   "outputs": [
    {
     "name": "stdout",
     "output_type": "stream",
     "text": [
      "MRR_both:0.30988224890994276\n",
      "MRR_head:0.20999301671029683\n",
      "MRR_tail:0.4097714811095887\n"
     ]
    }
   ],
   "source": [
    "MRR_both = np.mean([raw_file_Rossi_FB15k237['rank_head'].apply(lambda row: 1/row), raw_file_Rossi_FB15k237['rank_tail'].apply(lambda row: 1/row)])\n",
    "MRR_head = np.mean(raw_file_Rossi_FB15k237['rank_head'].apply(lambda row: 1/row))\n",
    "MRR_tail = np.mean(raw_file_Rossi_FB15k237['rank_tail'].apply(lambda row: 1/row))\n",
    "print(f'MRR_both:{MRR_both}')\n",
    "print(f'MRR_head:{MRR_head}')\n",
    "print(f'MRR_tail:{MRR_tail}')"
   ],
   "metadata": {
    "collapsed": false,
    "pycharm": {
     "name": "#%%\n"
    }
   }
  },
  {
   "cell_type": "markdown",
   "source": [],
   "metadata": {
    "collapsed": false,
    "pycharm": {
     "name": "#%% md\n"
    }
   }
  },
  {
   "cell_type": "code",
   "execution_count": 24,
   "outputs": [
    {
     "data": {
      "text/plain": "20438"
     },
     "execution_count": 24,
     "metadata": {},
     "output_type": "execute_result"
    }
   ],
   "source": [
    "total_number_of_triples = len(raw_file_Rossi_FB15k237)\n",
    "total_number_of_triples"
   ],
   "metadata": {
    "collapsed": false,
    "pycharm": {
     "name": "#%%\n"
    }
   }
  },
  {
   "cell_type": "code",
   "execution_count": 38,
   "outputs": [
    {
     "name": "stdout",
     "output_type": "stream",
     "text": [
      "hits_at_k_head:0.382033467071142\n",
      "hits_at_k_tail:0.6110186906742343\n",
      "hits_at_k_both:0.4965260788726882\n"
     ]
    }
   ],
   "source": [
    "k = 10\n",
    "hits_at_k_head = len(raw_file_Rossi_FB15k237[raw_file_Rossi_FB15k237['rank_head'] <= k])/total_number_of_triples\n",
    "hits_at_k_tail = len(raw_file_Rossi_FB15k237[raw_file_Rossi_FB15k237['rank_tail'] <= k])/total_number_of_triples\n",
    "hits_at_k_both = np.mean([hits_at_k_head, hits_at_k_tail])\n",
    "print(f'hits_at_k_head:{hits_at_k_head}')\n",
    "print(f'hits_at_k_tail:{hits_at_k_tail}')\n",
    "print(f'hits_at_k_both:{hits_at_k_both}')"
   ],
   "metadata": {
    "collapsed": false,
    "pycharm": {
     "name": "#%%\n"
    }
   }
  },
  {
   "cell_type": "markdown",
   "source": [
    "### DistMult"
   ],
   "metadata": {
    "collapsed": false,
    "pycharm": {
     "name": "#%% md\n"
    }
   }
  },
  {
   "cell_type": "code",
   "execution_count": 54,
   "outputs": [
    {
     "data": {
      "text/plain": "      head_id                                        relation_id true_tail_id  \\\n0    /m/08966  /travel/travel_destination/climate./travel/tra...     /m/05lf_   \n1   /m/01hww_  /music/performance_role/regular_performances./...    /m/01q99h   \n2  /m/09v3jyg  /film/film/release_date_s./film/film_regional_...    /m/0f8l9c   \n3    /m/02jx1                        /location/location/contains    /m/013t85   \n4    /m/02jx1                        /location/location/contains     /m/0m0bj   \n\n   rank_head  rank_tail  \n0          1          1  \n1         50         71  \n2         20          4  \n3          1        320  \n4          1        120  ",
      "text/html": "<div>\n<style scoped>\n    .dataframe tbody tr th:only-of-type {\n        vertical-align: middle;\n    }\n\n    .dataframe tbody tr th {\n        vertical-align: top;\n    }\n\n    .dataframe thead th {\n        text-align: right;\n    }\n</style>\n<table border=\"1\" class=\"dataframe\">\n  <thead>\n    <tr style=\"text-align: right;\">\n      <th></th>\n      <th>head_id</th>\n      <th>relation_id</th>\n      <th>true_tail_id</th>\n      <th>rank_head</th>\n      <th>rank_tail</th>\n    </tr>\n  </thead>\n  <tbody>\n    <tr>\n      <th>0</th>\n      <td>/m/08966</td>\n      <td>/travel/travel_destination/climate./travel/tra...</td>\n      <td>/m/05lf_</td>\n      <td>1</td>\n      <td>1</td>\n    </tr>\n    <tr>\n      <th>1</th>\n      <td>/m/01hww_</td>\n      <td>/music/performance_role/regular_performances./...</td>\n      <td>/m/01q99h</td>\n      <td>50</td>\n      <td>71</td>\n    </tr>\n    <tr>\n      <th>2</th>\n      <td>/m/09v3jyg</td>\n      <td>/film/film/release_date_s./film/film_regional_...</td>\n      <td>/m/0f8l9c</td>\n      <td>20</td>\n      <td>4</td>\n    </tr>\n    <tr>\n      <th>3</th>\n      <td>/m/02jx1</td>\n      <td>/location/location/contains</td>\n      <td>/m/013t85</td>\n      <td>1</td>\n      <td>320</td>\n    </tr>\n    <tr>\n      <th>4</th>\n      <td>/m/02jx1</td>\n      <td>/location/location/contains</td>\n      <td>/m/0m0bj</td>\n      <td>1</td>\n      <td>120</td>\n    </tr>\n  </tbody>\n</table>\n</div>"
     },
     "execution_count": 54,
     "metadata": {},
     "output_type": "execute_result"
    }
   ],
   "source": [
    "raw_file_Rossi_FB15k237 = pd.read_csv(os.path.join(path_to_results, 'DistMult/distmult_filtered_ranks.csv'),\n",
    "                                      sep = ';',\n",
    "                                      names = ['head_id', 'relation_id', 'true_tail_id',\n",
    "                                               'rank_head', 'rank_tail'])\n",
    "raw_file_Rossi_FB15k237.head()"
   ],
   "metadata": {
    "collapsed": false,
    "pycharm": {
     "name": "#%%\n"
    }
   }
  },
  {
   "cell_type": "code",
   "execution_count": 55,
   "outputs": [
    {
     "name": "stdout",
     "output_type": "stream",
     "text": [
      "mean rank head: 238.25256874449553\n",
      "mean rank tail: 160.105196203151\n",
      "mean rank both: 199.17888247382328\n"
     ]
    }
   ],
   "source": [
    "mean_rank_head = raw_file_Rossi_FB15k237['rank_head'].mean()\n",
    "mean_rank_tail = raw_file_Rossi_FB15k237['rank_tail'].mean()\n",
    "mean_rank_both = np.mean([raw_file_Rossi_FB15k237['rank_head'], raw_file_Rossi_FB15k237['rank_tail']])\n",
    "print(f'mean rank head: {mean_rank_head}')\n",
    "print(f'mean rank tail: {mean_rank_tail}')\n",
    "print(f'mean rank both: {mean_rank_both}')"
   ],
   "metadata": {
    "collapsed": false,
    "pycharm": {
     "name": "#%%\n"
    }
   }
  },
  {
   "cell_type": "code",
   "execution_count": 56,
   "outputs": [
    {
     "name": "stdout",
     "output_type": "stream",
     "text": [
      "MRR_both:0.3130524127672369\n",
      "MRR_head:0.21916327439549604\n",
      "MRR_tail:0.4069415511389777\n"
     ]
    }
   ],
   "source": [
    "MRR_both = np.mean([raw_file_Rossi_FB15k237['rank_head'].apply(lambda row: 1/row), raw_file_Rossi_FB15k237['rank_tail'].apply(lambda row: 1/row)])\n",
    "MRR_head = np.mean(raw_file_Rossi_FB15k237['rank_head'].apply(lambda row: 1/row))\n",
    "MRR_tail = np.mean(raw_file_Rossi_FB15k237['rank_tail'].apply(lambda row: 1/row))\n",
    "print(f'MRR_both:{MRR_both}')\n",
    "print(f'MRR_head:{MRR_head}')\n",
    "print(f'MRR_tail:{MRR_tail}')"
   ],
   "metadata": {
    "collapsed": false,
    "pycharm": {
     "name": "#%%\n"
    }
   }
  },
  {
   "cell_type": "markdown",
   "source": [],
   "metadata": {
    "collapsed": false,
    "pycharm": {
     "name": "#%% md\n"
    }
   }
  },
  {
   "cell_type": "code",
   "execution_count": 57,
   "outputs": [
    {
     "data": {
      "text/plain": "20438"
     },
     "execution_count": 57,
     "metadata": {},
     "output_type": "execute_result"
    }
   ],
   "source": [
    "total_number_of_triples = len(raw_file_Rossi_FB15k237)\n",
    "total_number_of_triples"
   ],
   "metadata": {
    "collapsed": false,
    "pycharm": {
     "name": "#%%\n"
    }
   }
  },
  {
   "cell_type": "code",
   "execution_count": 58,
   "outputs": [
    {
     "name": "stdout",
     "output_type": "stream",
     "text": [
      "hits_at_10_head:0.381690967805069\n",
      "hits_at_10_tail:0.5984440747626969\n",
      "hits_at_10_both:0.490067521283883\n"
     ]
    }
   ],
   "source": [
    "k = 10\n",
    "hits_at_k_head = len(raw_file_Rossi_FB15k237[raw_file_Rossi_FB15k237['rank_head'] <= k])/total_number_of_triples\n",
    "hits_at_k_tail = len(raw_file_Rossi_FB15k237[raw_file_Rossi_FB15k237['rank_tail'] <= k])/total_number_of_triples\n",
    "hits_at_k_both = np.mean([hits_at_k_head, hits_at_k_tail])\n",
    "print(f'hits_at_{k}_head:{hits_at_k_head}')\n",
    "print(f'hits_at_{k}_tail:{hits_at_k_tail}')\n",
    "print(f'hits_at_{k}_both:{hits_at_k_both}')"
   ],
   "metadata": {
    "collapsed": false,
    "pycharm": {
     "name": "#%%\n"
    }
   }
  },
  {
   "cell_type": "markdown",
   "source": [
    "### RotatE"
   ],
   "metadata": {
    "collapsed": false,
    "pycharm": {
     "name": "#%% md\n"
    }
   }
  },
  {
   "cell_type": "code",
   "execution_count": 59,
   "outputs": [
    {
     "data": {
      "text/plain": "      head_id                                        relation_id true_tail_id  \\\n0    /m/08966  /travel/travel_destination/climate./travel/tra...     /m/05lf_   \n1   /m/01hww_  /music/performance_role/regular_performances./...    /m/01q99h   \n2  /m/09v3jyg  /film/film/release_date_s./film/film_regional_...    /m/0f8l9c   \n3    /m/02jx1                        /location/location/contains    /m/013t85   \n4    /m/02jx1                        /location/location/contains     /m/0m0bj   \n\n   rank_head  rank_tail  \n0          1          1  \n1         41         39  \n2         10          2  \n3          4       2330  \n4          1        172  ",
      "text/html": "<div>\n<style scoped>\n    .dataframe tbody tr th:only-of-type {\n        vertical-align: middle;\n    }\n\n    .dataframe tbody tr th {\n        vertical-align: top;\n    }\n\n    .dataframe thead th {\n        text-align: right;\n    }\n</style>\n<table border=\"1\" class=\"dataframe\">\n  <thead>\n    <tr style=\"text-align: right;\">\n      <th></th>\n      <th>head_id</th>\n      <th>relation_id</th>\n      <th>true_tail_id</th>\n      <th>rank_head</th>\n      <th>rank_tail</th>\n    </tr>\n  </thead>\n  <tbody>\n    <tr>\n      <th>0</th>\n      <td>/m/08966</td>\n      <td>/travel/travel_destination/climate./travel/tra...</td>\n      <td>/m/05lf_</td>\n      <td>1</td>\n      <td>1</td>\n    </tr>\n    <tr>\n      <th>1</th>\n      <td>/m/01hww_</td>\n      <td>/music/performance_role/regular_performances./...</td>\n      <td>/m/01q99h</td>\n      <td>41</td>\n      <td>39</td>\n    </tr>\n    <tr>\n      <th>2</th>\n      <td>/m/09v3jyg</td>\n      <td>/film/film/release_date_s./film/film_regional_...</td>\n      <td>/m/0f8l9c</td>\n      <td>10</td>\n      <td>2</td>\n    </tr>\n    <tr>\n      <th>3</th>\n      <td>/m/02jx1</td>\n      <td>/location/location/contains</td>\n      <td>/m/013t85</td>\n      <td>4</td>\n      <td>2330</td>\n    </tr>\n    <tr>\n      <th>4</th>\n      <td>/m/02jx1</td>\n      <td>/location/location/contains</td>\n      <td>/m/0m0bj</td>\n      <td>1</td>\n      <td>172</td>\n    </tr>\n  </tbody>\n</table>\n</div>"
     },
     "execution_count": 59,
     "metadata": {},
     "output_type": "execute_result"
    }
   ],
   "source": [
    "raw_file_Rossi_FB15k237 = pd.read_csv(os.path.join(path_to_results, 'RotatE/rotate_filtered_ranks.csv'),\n",
    "                                      sep = ';',\n",
    "                                      names = ['head_id', 'relation_id', 'true_tail_id',\n",
    "                                               'rank_head', 'rank_tail'])\n",
    "raw_file_Rossi_FB15k237.head()"
   ],
   "metadata": {
    "collapsed": false,
    "pycharm": {
     "name": "#%%\n"
    }
   }
  },
  {
   "cell_type": "code",
   "execution_count": 60,
   "outputs": [
    {
     "name": "stdout",
     "output_type": "stream",
     "text": [
      "mean rank head: 244.54993648001565\n",
      "mean rank tail: 111.66959835825271\n",
      "mean rank both: 178.1097674191342\n"
     ]
    }
   ],
   "source": [
    "mean_rank_head = raw_file_Rossi_FB15k237['rank_head'].mean()\n",
    "mean_rank_tail = raw_file_Rossi_FB15k237['rank_tail'].mean()\n",
    "mean_rank_both = np.mean([raw_file_Rossi_FB15k237['rank_head'], raw_file_Rossi_FB15k237['rank_tail']])\n",
    "print(f'mean rank head: {mean_rank_head}')\n",
    "print(f'mean rank tail: {mean_rank_tail}')\n",
    "print(f'mean rank both: {mean_rank_both}')"
   ],
   "metadata": {
    "collapsed": false,
    "pycharm": {
     "name": "#%%\n"
    }
   }
  },
  {
   "cell_type": "code",
   "execution_count": 61,
   "outputs": [
    {
     "name": "stdout",
     "output_type": "stream",
     "text": [
      "MRR_both:0.33551477095330423\n",
      "MRR_head:0.2388598016921442\n",
      "MRR_tail:0.43216974021446436\n"
     ]
    }
   ],
   "source": [
    "MRR_both = np.mean([raw_file_Rossi_FB15k237['rank_head'].apply(lambda row: 1/row), raw_file_Rossi_FB15k237['rank_tail'].apply(lambda row: 1/row)])\n",
    "MRR_head = np.mean(raw_file_Rossi_FB15k237['rank_head'].apply(lambda row: 1/row))\n",
    "MRR_tail = np.mean(raw_file_Rossi_FB15k237['rank_tail'].apply(lambda row: 1/row))\n",
    "print(f'MRR_both:{MRR_both}')\n",
    "print(f'MRR_head:{MRR_head}')\n",
    "print(f'MRR_tail:{MRR_tail}')"
   ],
   "metadata": {
    "collapsed": false,
    "pycharm": {
     "name": "#%%\n"
    }
   }
  },
  {
   "cell_type": "markdown",
   "source": [],
   "metadata": {
    "collapsed": false,
    "pycharm": {
     "name": "#%% md\n"
    }
   }
  },
  {
   "cell_type": "code",
   "execution_count": 62,
   "outputs": [
    {
     "data": {
      "text/plain": "20466"
     },
     "execution_count": 62,
     "metadata": {},
     "output_type": "execute_result"
    }
   ],
   "source": [
    "total_number_of_triples = len(raw_file_Rossi_FB15k237)\n",
    "total_number_of_triples"
   ],
   "metadata": {
    "collapsed": false,
    "pycharm": {
     "name": "#%%\n"
    }
   }
  },
  {
   "cell_type": "code",
   "execution_count": 65,
   "outputs": [
    {
     "name": "stdout",
     "output_type": "stream",
     "text": [
      "hits_at_10_head:0.42343398807778754\n",
      "hits_at_10_tail:0.6377406430176878\n",
      "hits_at_10_both:0.5305873155477376\n"
     ]
    }
   ],
   "source": [
    "k = 10\n",
    "hits_at_k_head = len(raw_file_Rossi_FB15k237[raw_file_Rossi_FB15k237['rank_head'] <= k])/total_number_of_triples\n",
    "hits_at_k_tail = len(raw_file_Rossi_FB15k237[raw_file_Rossi_FB15k237['rank_tail'] <= k])/total_number_of_triples\n",
    "hits_at_k_both = np.mean([hits_at_k_head, hits_at_k_tail])\n",
    "print(f'hits_at_{k}_head:{hits_at_k_head}')\n",
    "print(f'hits_at_{k}_tail:{hits_at_k_tail}')\n",
    "print(f'hits_at_{k}_both:{hits_at_k_both}')"
   ],
   "metadata": {
    "collapsed": false,
    "pycharm": {
     "name": "#%%\n"
    }
   }
  },
  {
   "cell_type": "markdown",
   "source": [
    "## Calculate KG-BERT accuracy on the occupation predictions"
   ],
   "metadata": {
    "collapsed": false,
    "pycharm": {
     "name": "#%% md\n"
    }
   }
  },
  {
   "cell_type": "code",
   "execution_count": 66,
   "outputs": [
    {
     "data": {
      "text/plain": "         head                   relation       tail  rank_head  rank_tail  \\\n0    /m/02ghq  /people/person/profession  /m/01d_h8       2736        253   \n1  /m/01wkmgb  /people/person/profession   /m/09jwl         47          8   \n2   /m/06sy4c      /people/person/gender  /m/05zppz          1          1   \n3    /m/0mm1q  /people/person/profession  /m/01d_h8         32          3   \n4    /m/03j90  /people/person/profession   /m/05z96         34          2   \n\n                                   top_k_scores_head  \\\n0  [0.0071469075, 0.0069746017, 0.0048356955, 0.0...   \n1  [0.008710656, 0.0054885643, 0.0050288104, 0.00...   \n2  [0.023514604, 0.019892035, 0.01938399, 0.01869...   \n3  [0.007131098, 0.006959173, 0.0048249983, 0.003...   \n4  [0.0073894546, 0.007005059, 0.0063762814, 0.00...   \n\n                             top_k_entities_IDs_head  \\\n0  ['/m/079kdz', '/m/03vrnh', '/m/0d0l91', '/m/03...   \n1  ['/m/01x4sb', '/m/01r9md', '/m/01v3vp', '/m/01...   \n2  ['/m/06sy4c', '/m/0dn7v', '/m/01wbgdv', '/m/06...   \n3  ['/m/079kdz', '/m/03vrnh', '/m/0d0l91', '/m/03...   \n4  ['/m/02wh0', '/m/0m93', '/m/084w8', '/m/02qvhb...   \n\n                                   top_k_scores_tail  \\\n0  [0.026875637, 0.026580634, 0.024800703, 0.0218...   \n1  [0.028821947, 0.027155459, 0.021254253, 0.0208...   \n2  [0.024035277, 0.00085558416, 0.00070633873, 0....   \n3  [0.023830311, 0.022861863, 0.019964686, 0.0122...   \n4  [0.05024387, 0.040318903, 0.038028486, 0.03464...   \n\n                             top_k_entities_IDs_tail  \n0  ['/m/028fjr', '/m/0kyk', '/m/0d8qb', '/m/0hz28...  \n1  ['/m/064xm0', '/m/03bx0bm', '/m/02dsz', '/m/04...  \n2  ['/m/05zppz', '/m/0d7wh', '/m/02sdk9v', '/m/0g...  \n3  ['/m/02r96rf', '/m/064xm0', '/m/01d_h8', '/m/0...  \n4  ['/m/04t_mf', '/m/05z96', '/m/03j90', '/m/0308...  ",
      "text/html": "<div>\n<style scoped>\n    .dataframe tbody tr th:only-of-type {\n        vertical-align: middle;\n    }\n\n    .dataframe tbody tr th {\n        vertical-align: top;\n    }\n\n    .dataframe thead th {\n        text-align: right;\n    }\n</style>\n<table border=\"1\" class=\"dataframe\">\n  <thead>\n    <tr style=\"text-align: right;\">\n      <th></th>\n      <th>head</th>\n      <th>relation</th>\n      <th>tail</th>\n      <th>rank_head</th>\n      <th>rank_tail</th>\n      <th>top_k_scores_head</th>\n      <th>top_k_entities_IDs_head</th>\n      <th>top_k_scores_tail</th>\n      <th>top_k_entities_IDs_tail</th>\n    </tr>\n  </thead>\n  <tbody>\n    <tr>\n      <th>0</th>\n      <td>/m/02ghq</td>\n      <td>/people/person/profession</td>\n      <td>/m/01d_h8</td>\n      <td>2736</td>\n      <td>253</td>\n      <td>[0.0071469075, 0.0069746017, 0.0048356955, 0.0...</td>\n      <td>['/m/079kdz', '/m/03vrnh', '/m/0d0l91', '/m/03...</td>\n      <td>[0.026875637, 0.026580634, 0.024800703, 0.0218...</td>\n      <td>['/m/028fjr', '/m/0kyk', '/m/0d8qb', '/m/0hz28...</td>\n    </tr>\n    <tr>\n      <th>1</th>\n      <td>/m/01wkmgb</td>\n      <td>/people/person/profession</td>\n      <td>/m/09jwl</td>\n      <td>47</td>\n      <td>8</td>\n      <td>[0.008710656, 0.0054885643, 0.0050288104, 0.00...</td>\n      <td>['/m/01x4sb', '/m/01r9md', '/m/01v3vp', '/m/01...</td>\n      <td>[0.028821947, 0.027155459, 0.021254253, 0.0208...</td>\n      <td>['/m/064xm0', '/m/03bx0bm', '/m/02dsz', '/m/04...</td>\n    </tr>\n    <tr>\n      <th>2</th>\n      <td>/m/06sy4c</td>\n      <td>/people/person/gender</td>\n      <td>/m/05zppz</td>\n      <td>1</td>\n      <td>1</td>\n      <td>[0.023514604, 0.019892035, 0.01938399, 0.01869...</td>\n      <td>['/m/06sy4c', '/m/0dn7v', '/m/01wbgdv', '/m/06...</td>\n      <td>[0.024035277, 0.00085558416, 0.00070633873, 0....</td>\n      <td>['/m/05zppz', '/m/0d7wh', '/m/02sdk9v', '/m/0g...</td>\n    </tr>\n    <tr>\n      <th>3</th>\n      <td>/m/0mm1q</td>\n      <td>/people/person/profession</td>\n      <td>/m/01d_h8</td>\n      <td>32</td>\n      <td>3</td>\n      <td>[0.007131098, 0.006959173, 0.0048249983, 0.003...</td>\n      <td>['/m/079kdz', '/m/03vrnh', '/m/0d0l91', '/m/03...</td>\n      <td>[0.023830311, 0.022861863, 0.019964686, 0.0122...</td>\n      <td>['/m/02r96rf', '/m/064xm0', '/m/01d_h8', '/m/0...</td>\n    </tr>\n    <tr>\n      <th>4</th>\n      <td>/m/03j90</td>\n      <td>/people/person/profession</td>\n      <td>/m/05z96</td>\n      <td>34</td>\n      <td>2</td>\n      <td>[0.0073894546, 0.007005059, 0.0063762814, 0.00...</td>\n      <td>['/m/02wh0', '/m/0m93', '/m/084w8', '/m/02qvhb...</td>\n      <td>[0.05024387, 0.040318903, 0.038028486, 0.03464...</td>\n      <td>['/m/04t_mf', '/m/05z96', '/m/03j90', '/m/0308...</td>\n    </tr>\n  </tbody>\n</table>\n</div>"
     },
     "execution_count": 66,
     "metadata": {},
     "output_type": "execute_result"
    }
   ],
   "source": [
    "KGBERT_predictions = pd.read_csv('/home/lena/git/master_thesis_bias_in_NLP/results/KG_and_LM/KG-BERT/11.05.2022_16:00_train_and_test_default_FB15K-237_6A100_final/ranks_with_metadata_test_merged_only_gender_occupation_29052022.tsv',\n",
    "                                 sep = '\\t')\n",
    "KGBERT_predictions.head()"
   ],
   "metadata": {
    "collapsed": false,
    "pycharm": {
     "name": "#%%\n"
    }
   }
  },
  {
   "cell_type": "code",
   "execution_count": 68,
   "outputs": [
    {
     "data": {
      "text/plain": "            head                   relation        tail  rank_head  rank_tail  \\\n0       /m/02ghq  /people/person/profession   /m/01d_h8       2736        253   \n1     /m/01wkmgb  /people/person/profession    /m/09jwl         47          8   \n3       /m/0mm1q  /people/person/profession   /m/01d_h8         32          3   \n4       /m/03j90  /people/person/profession    /m/05z96         34          2   \n5     /m/02vwckw  /people/person/profession     /m/0n1h        117          3   \n...          ...                        ...         ...        ...        ...   \n1737  /m/025vw4t  /people/person/profession   /m/02krf9          1          1   \n1738   /m/059j1m  /people/person/profession   /m/018gz8          4          1   \n1739   /m/016sp_  /people/person/profession   /m/016z4k        245         13   \n1740   /m/016tb7  /people/person/profession   /m/03gjzk        165          3   \n1746    /m/0l5yl  /people/person/profession  /m/02hrh1q        253         14   \n\n                                      top_k_scores_head  \\\n0     [0.0071469075, 0.0069746017, 0.0048356955, 0.0...   \n1     [0.008710656, 0.0054885643, 0.0050288104, 0.00...   \n3     [0.007131098, 0.006959173, 0.0048249983, 0.003...   \n4     [0.0073894546, 0.007005059, 0.0063762814, 0.00...   \n5     [0.0044786357, 0.0044699623, 0.0042721443, 0.0...   \n...                                                 ...   \n1737  [0.007574797, 0.007337841, 0.006771566, 0.0050...   \n1738  [0.009188846, 0.0087780105, 0.00871591, 0.0086...   \n1739  [0.005739699, 0.005127326, 0.00485301, 0.00482...   \n1740  [0.0070127645, 0.006654296, 0.0061596218, 0.00...   \n1746  [0.0055764946, 0.004636525, 0.0046228007, 0.00...   \n\n                                top_k_entities_IDs_head  \\\n0     ['/m/079kdz', '/m/03vrnh', '/m/0d0l91', '/m/03...   \n1     ['/m/01x4sb', '/m/01r9md', '/m/01v3vp', '/m/01...   \n3     ['/m/079kdz', '/m/03vrnh', '/m/0d0l91', '/m/03...   \n4     ['/m/02wh0', '/m/0m93', '/m/084w8', '/m/02qvhb...   \n5     ['/m/03xds', '/m/0hgqq', '/m/071xj', '/m/01wj5...   \n...                                                 ...   \n1737  ['/m/025vw4t', '/m/01z0lb', '/m/017r13', '/m/0...   \n1738  ['/m/0lx2l', '/m/02yplc', '/m/05p606', '/m/059...   \n1739  ['/m/049qx', '/m/01xzb6', '/m/0fhxv', '/m/01vz...   \n1740  ['/m/047q2wc', '/m/0988cp', '/m/02bvt', '/m/04...   \n1746  ['/m/0b5x23', '/m/0cc63l', '/m/0263tn1', '/m/0...   \n\n                                      top_k_scores_tail  \\\n0     [0.026875637, 0.026580634, 0.024800703, 0.0218...   \n1     [0.028821947, 0.027155459, 0.021254253, 0.0208...   \n3     [0.023830311, 0.022861863, 0.019964686, 0.0122...   \n4     [0.05024387, 0.040318903, 0.038028486, 0.03464...   \n5     [0.08184718, 0.033018593, 0.020987144, 0.01971...   \n...                                                 ...   \n1737  [0.08864466, 0.06141172, 0.059917174, 0.051188...   \n1738  [0.058022846, 0.04295462, 0.040730957, 0.03579...   \n1739  [0.027426446, 0.02445879, 0.022692293, 0.02189...   \n1740  [0.036629096, 0.028383244, 0.017234819, 0.0168...   \n1746  [0.038428918, 0.03232769, 0.02893001, 0.024270...   \n\n                                top_k_entities_IDs_tail  \n0     ['/m/028fjr', '/m/0kyk', '/m/0d8qb', '/m/0hz28...  \n1     ['/m/064xm0', '/m/03bx0bm', '/m/02dsz', '/m/04...  \n3     ['/m/02r96rf', '/m/064xm0', '/m/01d_h8', '/m/0...  \n4     ['/m/04t_mf', '/m/05z96', '/m/03j90', '/m/0308...  \n5     ['/m/02dsz', '/m/0dz3r', '/m/0n1h', '/m/04j5jl...  \n...                                                 ...  \n1737  ['/m/02krf9', '/m/040p_q', '/m/0ckd1', '/m/0cb...  \n1738  ['/m/018gz8', '/m/01lhf', '/m/0747nrk', '/m/0n...  \n1739  ['/m/04t_mf', '/m/067nv', '/m/025t7ly', '/m/0g...  \n1740  ['/m/04jjy', '/m/0mbx4', '/m/03gjzk', '/m/0ckd...  \n1746  ['/m/025syph', '/m/03ch14', '/m/06ppq', '/m/07...  \n\n[1311 rows x 9 columns]",
      "text/html": "<div>\n<style scoped>\n    .dataframe tbody tr th:only-of-type {\n        vertical-align: middle;\n    }\n\n    .dataframe tbody tr th {\n        vertical-align: top;\n    }\n\n    .dataframe thead th {\n        text-align: right;\n    }\n</style>\n<table border=\"1\" class=\"dataframe\">\n  <thead>\n    <tr style=\"text-align: right;\">\n      <th></th>\n      <th>head</th>\n      <th>relation</th>\n      <th>tail</th>\n      <th>rank_head</th>\n      <th>rank_tail</th>\n      <th>top_k_scores_head</th>\n      <th>top_k_entities_IDs_head</th>\n      <th>top_k_scores_tail</th>\n      <th>top_k_entities_IDs_tail</th>\n    </tr>\n  </thead>\n  <tbody>\n    <tr>\n      <th>0</th>\n      <td>/m/02ghq</td>\n      <td>/people/person/profession</td>\n      <td>/m/01d_h8</td>\n      <td>2736</td>\n      <td>253</td>\n      <td>[0.0071469075, 0.0069746017, 0.0048356955, 0.0...</td>\n      <td>['/m/079kdz', '/m/03vrnh', '/m/0d0l91', '/m/03...</td>\n      <td>[0.026875637, 0.026580634, 0.024800703, 0.0218...</td>\n      <td>['/m/028fjr', '/m/0kyk', '/m/0d8qb', '/m/0hz28...</td>\n    </tr>\n    <tr>\n      <th>1</th>\n      <td>/m/01wkmgb</td>\n      <td>/people/person/profession</td>\n      <td>/m/09jwl</td>\n      <td>47</td>\n      <td>8</td>\n      <td>[0.008710656, 0.0054885643, 0.0050288104, 0.00...</td>\n      <td>['/m/01x4sb', '/m/01r9md', '/m/01v3vp', '/m/01...</td>\n      <td>[0.028821947, 0.027155459, 0.021254253, 0.0208...</td>\n      <td>['/m/064xm0', '/m/03bx0bm', '/m/02dsz', '/m/04...</td>\n    </tr>\n    <tr>\n      <th>3</th>\n      <td>/m/0mm1q</td>\n      <td>/people/person/profession</td>\n      <td>/m/01d_h8</td>\n      <td>32</td>\n      <td>3</td>\n      <td>[0.007131098, 0.006959173, 0.0048249983, 0.003...</td>\n      <td>['/m/079kdz', '/m/03vrnh', '/m/0d0l91', '/m/03...</td>\n      <td>[0.023830311, 0.022861863, 0.019964686, 0.0122...</td>\n      <td>['/m/02r96rf', '/m/064xm0', '/m/01d_h8', '/m/0...</td>\n    </tr>\n    <tr>\n      <th>4</th>\n      <td>/m/03j90</td>\n      <td>/people/person/profession</td>\n      <td>/m/05z96</td>\n      <td>34</td>\n      <td>2</td>\n      <td>[0.0073894546, 0.007005059, 0.0063762814, 0.00...</td>\n      <td>['/m/02wh0', '/m/0m93', '/m/084w8', '/m/02qvhb...</td>\n      <td>[0.05024387, 0.040318903, 0.038028486, 0.03464...</td>\n      <td>['/m/04t_mf', '/m/05z96', '/m/03j90', '/m/0308...</td>\n    </tr>\n    <tr>\n      <th>5</th>\n      <td>/m/02vwckw</td>\n      <td>/people/person/profession</td>\n      <td>/m/0n1h</td>\n      <td>117</td>\n      <td>3</td>\n      <td>[0.0044786357, 0.0044699623, 0.0042721443, 0.0...</td>\n      <td>['/m/03xds', '/m/0hgqq', '/m/071xj', '/m/01wj5...</td>\n      <td>[0.08184718, 0.033018593, 0.020987144, 0.01971...</td>\n      <td>['/m/02dsz', '/m/0dz3r', '/m/0n1h', '/m/04j5jl...</td>\n    </tr>\n    <tr>\n      <th>...</th>\n      <td>...</td>\n      <td>...</td>\n      <td>...</td>\n      <td>...</td>\n      <td>...</td>\n      <td>...</td>\n      <td>...</td>\n      <td>...</td>\n      <td>...</td>\n    </tr>\n    <tr>\n      <th>1737</th>\n      <td>/m/025vw4t</td>\n      <td>/people/person/profession</td>\n      <td>/m/02krf9</td>\n      <td>1</td>\n      <td>1</td>\n      <td>[0.007574797, 0.007337841, 0.006771566, 0.0050...</td>\n      <td>['/m/025vw4t', '/m/01z0lb', '/m/017r13', '/m/0...</td>\n      <td>[0.08864466, 0.06141172, 0.059917174, 0.051188...</td>\n      <td>['/m/02krf9', '/m/040p_q', '/m/0ckd1', '/m/0cb...</td>\n    </tr>\n    <tr>\n      <th>1738</th>\n      <td>/m/059j1m</td>\n      <td>/people/person/profession</td>\n      <td>/m/018gz8</td>\n      <td>4</td>\n      <td>1</td>\n      <td>[0.009188846, 0.0087780105, 0.00871591, 0.0086...</td>\n      <td>['/m/0lx2l', '/m/02yplc', '/m/05p606', '/m/059...</td>\n      <td>[0.058022846, 0.04295462, 0.040730957, 0.03579...</td>\n      <td>['/m/018gz8', '/m/01lhf', '/m/0747nrk', '/m/0n...</td>\n    </tr>\n    <tr>\n      <th>1739</th>\n      <td>/m/016sp_</td>\n      <td>/people/person/profession</td>\n      <td>/m/016z4k</td>\n      <td>245</td>\n      <td>13</td>\n      <td>[0.005739699, 0.005127326, 0.00485301, 0.00482...</td>\n      <td>['/m/049qx', '/m/01xzb6', '/m/0fhxv', '/m/01vz...</td>\n      <td>[0.027426446, 0.02445879, 0.022692293, 0.02189...</td>\n      <td>['/m/04t_mf', '/m/067nv', '/m/025t7ly', '/m/0g...</td>\n    </tr>\n    <tr>\n      <th>1740</th>\n      <td>/m/016tb7</td>\n      <td>/people/person/profession</td>\n      <td>/m/03gjzk</td>\n      <td>165</td>\n      <td>3</td>\n      <td>[0.0070127645, 0.006654296, 0.0061596218, 0.00...</td>\n      <td>['/m/047q2wc', '/m/0988cp', '/m/02bvt', '/m/04...</td>\n      <td>[0.036629096, 0.028383244, 0.017234819, 0.0168...</td>\n      <td>['/m/04jjy', '/m/0mbx4', '/m/03gjzk', '/m/0ckd...</td>\n    </tr>\n    <tr>\n      <th>1746</th>\n      <td>/m/0l5yl</td>\n      <td>/people/person/profession</td>\n      <td>/m/02hrh1q</td>\n      <td>253</td>\n      <td>14</td>\n      <td>[0.0055764946, 0.004636525, 0.0046228007, 0.00...</td>\n      <td>['/m/0b5x23', '/m/0cc63l', '/m/0263tn1', '/m/0...</td>\n      <td>[0.038428918, 0.03232769, 0.02893001, 0.024270...</td>\n      <td>['/m/025syph', '/m/03ch14', '/m/06ppq', '/m/07...</td>\n    </tr>\n  </tbody>\n</table>\n<p>1311 rows × 9 columns</p>\n</div>"
     },
     "execution_count": 68,
     "metadata": {},
     "output_type": "execute_result"
    }
   ],
   "source": [
    "KGBERT_predictions_only_occupation = KGBERT_predictions[KGBERT_predictions['relation'] == '/people/person/profession']\n",
    "KGBERT_predictions_only_occupation"
   ],
   "metadata": {
    "collapsed": false,
    "pycharm": {
     "name": "#%%\n"
    }
   }
  },
  {
   "cell_type": "code",
   "execution_count": 69,
   "outputs": [
    {
     "name": "stdout",
     "output_type": "stream",
     "text": [
      "mean rank head: 267.2784134248665\n",
      "mean rank tail: 22.696414950419527\n",
      "mean rank both: 144.98741418764303\n"
     ]
    }
   ],
   "source": [
    "mean_rank_head = KGBERT_predictions_only_occupation['rank_head'].mean()\n",
    "mean_rank_tail = KGBERT_predictions_only_occupation['rank_tail'].mean()\n",
    "mean_rank_both = np.mean([KGBERT_predictions_only_occupation['rank_head'], KGBERT_predictions_only_occupation['rank_tail']])\n",
    "print(f'mean rank head: {mean_rank_head}')\n",
    "print(f'mean rank tail: {mean_rank_tail}')\n",
    "print(f'mean rank both: {mean_rank_both}')"
   ],
   "metadata": {
    "collapsed": false,
    "pycharm": {
     "name": "#%%\n"
    }
   }
  },
  {
   "cell_type": "code",
   "execution_count": 70,
   "outputs": [
    {
     "name": "stdout",
     "output_type": "stream",
     "text": [
      "MRR_both:0.1485137371219073\n",
      "MRR_head:0.045770318509529284\n",
      "MRR_tail:0.25125715573428525\n"
     ]
    }
   ],
   "source": [
    "MRR_both = np.mean([KGBERT_predictions_only_occupation['rank_head'].apply(lambda row: 1/row), KGBERT_predictions_only_occupation['rank_tail'].apply(lambda row: 1/row)])\n",
    "MRR_head = np.mean(KGBERT_predictions_only_occupation['rank_head'].apply(lambda row: 1/row))\n",
    "MRR_tail = np.mean(KGBERT_predictions_only_occupation['rank_tail'].apply(lambda row: 1/row))\n",
    "print(f'MRR_both:{MRR_both}')\n",
    "print(f'MRR_head:{MRR_head}')\n",
    "print(f'MRR_tail:{MRR_tail}')"
   ],
   "metadata": {
    "collapsed": false,
    "pycharm": {
     "name": "#%%\n"
    }
   }
  },
  {
   "cell_type": "code",
   "execution_count": 71,
   "outputs": [
    {
     "data": {
      "text/plain": "1311"
     },
     "execution_count": 71,
     "metadata": {},
     "output_type": "execute_result"
    }
   ],
   "source": [
    "total_number_of_triples = len(KGBERT_predictions_only_occupation)\n",
    "total_number_of_triples"
   ],
   "metadata": {
    "collapsed": false,
    "pycharm": {
     "name": "#%%\n"
    }
   }
  },
  {
   "cell_type": "code",
   "execution_count": 75,
   "outputs": [
    {
     "name": "stdout",
     "output_type": "stream",
     "text": [
      "hits_at_10_head:0.11136536994660565\n",
      "hits_at_10_tail:0.5537757437070938\n",
      "hits_at_10_both:0.3325705568268497\n"
     ]
    }
   ],
   "source": [
    "k = 10\n",
    "hits_at_k_head = len(KGBERT_predictions_only_occupation[KGBERT_predictions_only_occupation['rank_head'] <= k])/total_number_of_triples\n",
    "hits_at_k_tail = len(KGBERT_predictions_only_occupation[KGBERT_predictions_only_occupation['rank_tail'] <= k])/total_number_of_triples\n",
    "hits_at_k_both = np.mean([hits_at_k_head, hits_at_k_tail])\n",
    "print(f'hits_at_{k}_head:{hits_at_k_head}')\n",
    "print(f'hits_at_{k}_tail:{hits_at_k_tail}')\n",
    "print(f'hits_at_{k}_both:{hits_at_k_both}')"
   ],
   "metadata": {
    "collapsed": false,
    "pycharm": {
     "name": "#%%\n"
    }
   }
  },
  {
   "cell_type": "code",
   "execution_count": null,
   "outputs": [],
   "source": [],
   "metadata": {
    "collapsed": false,
    "pycharm": {
     "name": "#%%\n"
    }
   }
  },
  {
   "cell_type": "code",
   "execution_count": null,
   "outputs": [],
   "source": [],
   "metadata": {
    "collapsed": false,
    "pycharm": {
     "name": "#%%\n"
    }
   }
  },
  {
   "cell_type": "code",
   "execution_count": null,
   "outputs": [],
   "source": [],
   "metadata": {
    "collapsed": false,
    "pycharm": {
     "name": "#%%\n"
    }
   }
  },
  {
   "cell_type": "code",
   "execution_count": null,
   "outputs": [],
   "source": [],
   "metadata": {
    "collapsed": false,
    "pycharm": {
     "name": "#%%\n"
    }
   }
  },
  {
   "cell_type": "code",
   "execution_count": null,
   "outputs": [],
   "source": [],
   "metadata": {
    "collapsed": false,
    "pycharm": {
     "name": "#%%\n"
    }
   }
  },
  {
   "cell_type": "code",
   "execution_count": null,
   "outputs": [],
   "source": [],
   "metadata": {
    "collapsed": false,
    "pycharm": {
     "name": "#%%\n"
    }
   }
  }
 ],
 "metadata": {
  "kernelspec": {
   "display_name": "Python 3",
   "language": "python",
   "name": "python3"
  },
  "language_info": {
   "codemirror_mode": {
    "name": "ipython",
    "version": 2
   },
   "file_extension": ".py",
   "mimetype": "text/x-python",
   "name": "python",
   "nbconvert_exporter": "python",
   "pygments_lexer": "ipython2",
   "version": "2.7.6"
  }
 },
 "nbformat": 4,
 "nbformat_minor": 0
}