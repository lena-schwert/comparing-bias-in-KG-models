{
 "cells": [
  {
   "cell_type": "code",
   "execution_count": 2,
   "metadata": {
    "collapsed": true
   },
   "outputs": [],
   "source": [
    "import os\n",
    "import pandas as pd\n",
    "import numpy as np"
   ]
  },
  {
   "cell_type": "markdown",
   "source": [
    "## Response to reviewer 3"
   ],
   "metadata": {
    "collapsed": false
   }
  },
  {
   "cell_type": "markdown",
   "source": [
    "Comment: The link prediction is a ranking problem. In Section 3.2, the authors mention that they frame it as a multi-class classification problem. This assumes that only one tail entity (class) is valid and the rest is invalid, which is ok for n-to-1 relations but wrong for 1-to-n and n-to-n relations. For example, the relationship occupation for a person could have multiple true values for a person with a long career or multiple affiliations. The temporality of the triples/relations is something that could be considered as well in the future."
   ],
   "metadata": {
    "collapsed": false
   }
  },
  {
   "cell_type": "markdown",
   "source": [
    "My idea: Check in how many instances a person in the test set has more than one occupation.\n",
    "\n",
    "1. Load the test dataset of Humanw5M-3Mil"
   ],
   "metadata": {
    "collapsed": false
   }
  },
  {
   "cell_type": "code",
   "execution_count": 2,
   "outputs": [
    {
     "data": {
      "text/plain": "    head_id relation_id relation_label true_tail_id true_tail_label  \\\n0   Q207578        P106     occupation       Q28389    screenwriter   \n1   Q862464        P106     occupation      Q753110      songwriter   \n2  Q5996937        P106     occupation       Q82955      politician   \n3  Q6117411        P106     occupation       Q37226         teacher   \n4    Q12983        P106     occupation       Q82955      politician   \n\n   true_tail_class_label       P21   P27 P172 P140  \n0                      8        -1  Q142   -1   -1  \n1                      0  Q6581097    -1   -1   -1  \n2                      1  Q6581072    -1   -1   -1  \n3                      0        -1   Q30   -1   -1  \n4                      1        -1    -1   -1   -1  ",
      "text/html": "<div>\n<style scoped>\n    .dataframe tbody tr th:only-of-type {\n        vertical-align: middle;\n    }\n\n    .dataframe tbody tr th {\n        vertical-align: top;\n    }\n\n    .dataframe thead th {\n        text-align: right;\n    }\n</style>\n<table border=\"1\" class=\"dataframe\">\n  <thead>\n    <tr style=\"text-align: right;\">\n      <th></th>\n      <th>head_id</th>\n      <th>relation_id</th>\n      <th>relation_label</th>\n      <th>true_tail_id</th>\n      <th>true_tail_label</th>\n      <th>true_tail_class_label</th>\n      <th>P21</th>\n      <th>P27</th>\n      <th>P172</th>\n      <th>P140</th>\n    </tr>\n  </thead>\n  <tbody>\n    <tr>\n      <th>0</th>\n      <td>Q207578</td>\n      <td>P106</td>\n      <td>occupation</td>\n      <td>Q28389</td>\n      <td>screenwriter</td>\n      <td>8</td>\n      <td>-1</td>\n      <td>Q142</td>\n      <td>-1</td>\n      <td>-1</td>\n    </tr>\n    <tr>\n      <th>1</th>\n      <td>Q862464</td>\n      <td>P106</td>\n      <td>occupation</td>\n      <td>Q753110</td>\n      <td>songwriter</td>\n      <td>0</td>\n      <td>Q6581097</td>\n      <td>-1</td>\n      <td>-1</td>\n      <td>-1</td>\n    </tr>\n    <tr>\n      <th>2</th>\n      <td>Q5996937</td>\n      <td>P106</td>\n      <td>occupation</td>\n      <td>Q82955</td>\n      <td>politician</td>\n      <td>1</td>\n      <td>Q6581072</td>\n      <td>-1</td>\n      <td>-1</td>\n      <td>-1</td>\n    </tr>\n    <tr>\n      <th>3</th>\n      <td>Q6117411</td>\n      <td>P106</td>\n      <td>occupation</td>\n      <td>Q37226</td>\n      <td>teacher</td>\n      <td>0</td>\n      <td>-1</td>\n      <td>Q30</td>\n      <td>-1</td>\n      <td>-1</td>\n    </tr>\n    <tr>\n      <th>4</th>\n      <td>Q12983</td>\n      <td>P106</td>\n      <td>occupation</td>\n      <td>Q82955</td>\n      <td>politician</td>\n      <td>1</td>\n      <td>-1</td>\n      <td>-1</td>\n      <td>-1</td>\n      <td>-1</td>\n    </tr>\n  </tbody>\n</table>\n</div>"
     },
     "execution_count": 2,
     "metadata": {},
     "output_type": "execute_result"
    }
   ],
   "source": [
    "dataset_HW5M3M = pd.read_csv('/home/lena/git/master_thesis_bias_in_NLP/results/bias_measurement/link_prediction_bias/preds_df_occupation_HumanW5M_subset_testset_with_sensitive_attribute_info.tsv',\n",
    "                         sep = '\\t')\n",
    "dataset_HW5M3M.head()"
   ],
   "metadata": {
    "collapsed": false
   }
  },
  {
   "cell_type": "code",
   "execution_count": 17,
   "outputs": [
    {
     "name": "stdout",
     "output_type": "stream",
     "text": [
      "<class 'pandas.core.frame.DataFrame'>\n",
      "RangeIndex: 3763 entries, 0 to 3762\n",
      "Data columns (total 10 columns):\n",
      " #   Column                 Non-Null Count  Dtype \n",
      "---  ------                 --------------  ----- \n",
      " 0   head_id                3763 non-null   object\n",
      " 1   relation_id            3763 non-null   object\n",
      " 2   relation_label         3763 non-null   object\n",
      " 3   true_tail_id           3763 non-null   object\n",
      " 4   true_tail_label        3763 non-null   object\n",
      " 5   true_tail_class_label  3763 non-null   int64 \n",
      " 6   P21                    3763 non-null   object\n",
      " 7   P27                    3763 non-null   object\n",
      " 8   P172                   3763 non-null   object\n",
      " 9   P140                   3763 non-null   object\n",
      "dtypes: int64(1), object(9)\n",
      "memory usage: 294.1+ KB\n"
     ]
    }
   ],
   "source": [
    "dataset_HW5M3M.info()"
   ],
   "metadata": {
    "collapsed": false
   }
  },
  {
   "cell_type": "markdown",
   "source": [
    "2. Count the occurrences of `head_id` and check whether the count is ever > 1."
   ],
   "metadata": {
    "collapsed": false
   }
  },
  {
   "cell_type": "code",
   "execution_count": 8,
   "outputs": [],
   "source": [
    "value_counts_head_id = dataset_HW5M3M['head_id'].value_counts()"
   ],
   "metadata": {
    "collapsed": false
   }
  },
  {
   "cell_type": "code",
   "execution_count": 19,
   "outputs": [
    {
     "data": {
      "text/plain": "Q44414       3\nQ6780980     2\nQ47755       2\nQ3242404     2\nQ107424      2\nQ4228038     2\nQ804182      2\nQ215610      2\nQ354241      2\nQ2713565     2\nQ611182      2\nQ7825274     2\nQ774923      2\nQ5541005     2\nQ3172990     2\nQ28791080    2\nQ492743      2\nQ58793       2\nQ236370      2\nQ316600      2\nQ4720002     2\nQ379923      2\nQ366328      2\nQ1933451     2\nQ405463      2\nQ318462      2\nQ7817666     2\nQ17512078    2\nQ6850043     2\nQ971395      2\nQ332470      2\nQ2150133     2\nQ835766      2\nQ231942      2\nQ1274954     2\nQ695938      2\nQ5267978     2\nQ1067        2\nName: head_id, dtype: int64"
     },
     "execution_count": 19,
     "metadata": {},
     "output_type": "execute_result"
    }
   ],
   "source": [
    "IDs_and_counts_above_one_ocupation = value_counts_head_id[value_counts_head_id > 1]\n",
    "IDs_and_counts_above_one_ocupation"
   ],
   "metadata": {
    "collapsed": false
   }
  },
  {
   "cell_type": "code",
   "execution_count": 16,
   "outputs": [
    {
     "name": "stdout",
     "output_type": "stream",
     "text": [
      "<class 'pandas.core.series.Series'>\n",
      "Index: 38 entries, Q44414 to Q1067\n",
      "Series name: head_id\n",
      "Non-Null Count  Dtype\n",
      "--------------  -----\n",
      "38 non-null     int64\n",
      "dtypes: int64(1)\n",
      "memory usage: 1.6+ KB\n"
     ]
    }
   ],
   "source": [
    "IDs_and_counts_above_one_ocupation.info()"
   ],
   "metadata": {
    "collapsed": false
   }
  },
  {
   "cell_type": "code",
   "execution_count": 26,
   "outputs": [
    {
     "data": {
      "text/plain": "array(['Q44414', 'Q6780980', 'Q47755', 'Q3242404', 'Q107424', 'Q4228038',\n       'Q804182', 'Q215610', 'Q354241', 'Q2713565', 'Q611182', 'Q7825274',\n       'Q774923', 'Q5541005', 'Q3172990', 'Q28791080', 'Q492743',\n       'Q58793', 'Q236370', 'Q316600', 'Q4720002', 'Q379923', 'Q366328',\n       'Q1933451', 'Q405463', 'Q318462', 'Q7817666', 'Q17512078',\n       'Q6850043', 'Q971395', 'Q332470', 'Q2150133', 'Q835766', 'Q231942',\n       'Q1274954', 'Q695938', 'Q5267978', 'Q1067'], dtype=object)"
     },
     "execution_count": 26,
     "metadata": {},
     "output_type": "execute_result"
    }
   ],
   "source": [
    "people_with_more_than_one_occupation = IDs_and_counts_above_one_ocupation.index.values\n",
    "people_with_more_than_one_occupation"
   ],
   "metadata": {
    "collapsed": false
   }
  },
  {
   "cell_type": "markdown",
   "source": [
    "3. For the most accurate of our models, SimKGC_IBSNPB: Are there instances where false positives should actually be true positives?"
   ],
   "metadata": {
    "collapsed": false
   }
  },
  {
   "cell_type": "code",
   "execution_count": 35,
   "outputs": [
    {
     "data": {
      "text/plain": "    head_id relation_id relation_label true_tail_id true_tail_label  \\\n0   Q207578        P106     occupation       Q28389    screenwriter   \n1   Q862464        P106     occupation      Q753110      songwriter   \n2  Q5996937        P106     occupation       Q82955      politician   \n3  Q6117411        P106     occupation       Q37226         teacher   \n4    Q12983        P106     occupation       Q82955      politician   \n\n   true_tail_class_label pred_tail_id pred_tail_label  pred_tail_class_label  \\\n0                      8     Q4610556           model                      0   \n1                      0      Q753110      songwriter                      0   \n2                      1       Q82955      politician                      1   \n3                      0       Q36180          writer                      2   \n4                      1     Q2478141      aristocrat                      0   \n\n        P21   P27 P172 P140  \n0        -1  Q142   -1   -1  \n1  Q6581097    -1   -1   -1  \n2  Q6581072    -1   -1   -1  \n3        -1   Q30   -1   -1  \n4        -1    -1   -1   -1  ",
      "text/html": "<div>\n<style scoped>\n    .dataframe tbody tr th:only-of-type {\n        vertical-align: middle;\n    }\n\n    .dataframe tbody tr th {\n        vertical-align: top;\n    }\n\n    .dataframe thead th {\n        text-align: right;\n    }\n</style>\n<table border=\"1\" class=\"dataframe\">\n  <thead>\n    <tr style=\"text-align: right;\">\n      <th></th>\n      <th>head_id</th>\n      <th>relation_id</th>\n      <th>relation_label</th>\n      <th>true_tail_id</th>\n      <th>true_tail_label</th>\n      <th>true_tail_class_label</th>\n      <th>pred_tail_id</th>\n      <th>pred_tail_label</th>\n      <th>pred_tail_class_label</th>\n      <th>P21</th>\n      <th>P27</th>\n      <th>P172</th>\n      <th>P140</th>\n    </tr>\n  </thead>\n  <tbody>\n    <tr>\n      <th>0</th>\n      <td>Q207578</td>\n      <td>P106</td>\n      <td>occupation</td>\n      <td>Q28389</td>\n      <td>screenwriter</td>\n      <td>8</td>\n      <td>Q4610556</td>\n      <td>model</td>\n      <td>0</td>\n      <td>-1</td>\n      <td>Q142</td>\n      <td>-1</td>\n      <td>-1</td>\n    </tr>\n    <tr>\n      <th>1</th>\n      <td>Q862464</td>\n      <td>P106</td>\n      <td>occupation</td>\n      <td>Q753110</td>\n      <td>songwriter</td>\n      <td>0</td>\n      <td>Q753110</td>\n      <td>songwriter</td>\n      <td>0</td>\n      <td>Q6581097</td>\n      <td>-1</td>\n      <td>-1</td>\n      <td>-1</td>\n    </tr>\n    <tr>\n      <th>2</th>\n      <td>Q5996937</td>\n      <td>P106</td>\n      <td>occupation</td>\n      <td>Q82955</td>\n      <td>politician</td>\n      <td>1</td>\n      <td>Q82955</td>\n      <td>politician</td>\n      <td>1</td>\n      <td>Q6581072</td>\n      <td>-1</td>\n      <td>-1</td>\n      <td>-1</td>\n    </tr>\n    <tr>\n      <th>3</th>\n      <td>Q6117411</td>\n      <td>P106</td>\n      <td>occupation</td>\n      <td>Q37226</td>\n      <td>teacher</td>\n      <td>0</td>\n      <td>Q36180</td>\n      <td>writer</td>\n      <td>2</td>\n      <td>-1</td>\n      <td>Q30</td>\n      <td>-1</td>\n      <td>-1</td>\n    </tr>\n    <tr>\n      <th>4</th>\n      <td>Q12983</td>\n      <td>P106</td>\n      <td>occupation</td>\n      <td>Q82955</td>\n      <td>politician</td>\n      <td>1</td>\n      <td>Q2478141</td>\n      <td>aristocrat</td>\n      <td>0</td>\n      <td>-1</td>\n      <td>-1</td>\n      <td>-1</td>\n      <td>-1</td>\n    </tr>\n  </tbody>\n</table>\n</div>"
     },
     "execution_count": 35,
     "metadata": {},
     "output_type": "execute_result"
    }
   ],
   "source": [
    "preds_df_SKGC_IBSNPB = pd.read_csv('/home/lena/git/master_thesis_bias_in_NLP/results/bias_measurement/link_prediction_bias/SimKGC_IBSNPB/preds_df_SimKGC_IBSNPB_HW5M_occupation_9classes_WITHOUTNAs_sensrel_from_entire_v4subset.tsv',\n",
    "                         sep = '\\t')\n",
    "preds_df_SKGC_IBSNPB.head()"
   ],
   "metadata": {
    "collapsed": false
   }
  },
  {
   "cell_type": "code",
   "execution_count": 36,
   "outputs": [],
   "source": [
    "preds_df_onlymultiocc = preds_df_SKGC_IBSNPB[preds_df_SKGC_IBSNPB['head_id'].isin(people_with_more_than_one_occupation)]"
   ],
   "metadata": {
    "collapsed": false
   }
  },
  {
   "cell_type": "code",
   "execution_count": 37,
   "outputs": [
    {
     "data": {
      "text/plain": "       head_id relation_id relation_label true_tail_id true_tail_label  \\\n2916     Q1067        P106     occupation     Q4964182     philosopher   \n1518     Q1067        P106     occupation       Q58968    intellectual   \n2070   Q107424        P106     occupation      Q486748         pianist   \n912    Q107424        P106     occupation      Q639669        musician   \n722   Q1274954        P106     occupation     Q1930187      journalist   \n...        ...         ...            ...          ...             ...   \n1255   Q804182        P106     occupation       Q82955      politician   \n1065   Q835766        P106     occupation     Q6625963        novelist   \n2383   Q835766        P106     occupation      Q622807           seiyū   \n485    Q971395        P106     occupation       Q82955      politician   \n1816   Q971395        P106     occupation      Q201788       historian   \n\n      true_tail_class_label pred_tail_id      pred_tail_label  \\\n2916                      0      Q670152         Germanophile   \n1518                      0      Q670152         Germanophile   \n2070                      0      Q488205    singer-songwriter   \n912                       0      Q488205    singer-songwriter   \n722                       0     Q2722764    radio personality   \n...                     ...          ...                  ...   \n1255                      1      Q876864  contributing editor   \n1065                      7     Q6625963             novelist   \n2383                      0     Q6625963             novelist   \n485                       1       Q82955           politician   \n1816                      0       Q82955           politician   \n\n      pred_tail_class_label       P21      P27 P172 P140  \n2916                      0        -1  Q148540   -1   -1  \n1518                      0        -1  Q148540   -1   -1  \n2070                      0        -1       -1   -1   -1  \n912                       0        -1       -1   -1   -1  \n722                       0  Q6581097       -1   -1   -1  \n...                     ...       ...      ...  ...  ...  \n1255                      0        -1       -1   -1   -1  \n1065                      7        -1       -1   -1   -1  \n2383                      7        -1       -1   -1   -1  \n485                       1        -1       -1   -1   -1  \n1816                      1        -1       -1   -1   -1  \n\n[73 rows x 13 columns]",
      "text/html": "<div>\n<style scoped>\n    .dataframe tbody tr th:only-of-type {\n        vertical-align: middle;\n    }\n\n    .dataframe tbody tr th {\n        vertical-align: top;\n    }\n\n    .dataframe thead th {\n        text-align: right;\n    }\n</style>\n<table border=\"1\" class=\"dataframe\">\n  <thead>\n    <tr style=\"text-align: right;\">\n      <th></th>\n      <th>head_id</th>\n      <th>relation_id</th>\n      <th>relation_label</th>\n      <th>true_tail_id</th>\n      <th>true_tail_label</th>\n      <th>true_tail_class_label</th>\n      <th>pred_tail_id</th>\n      <th>pred_tail_label</th>\n      <th>pred_tail_class_label</th>\n      <th>P21</th>\n      <th>P27</th>\n      <th>P172</th>\n      <th>P140</th>\n    </tr>\n  </thead>\n  <tbody>\n    <tr>\n      <th>2916</th>\n      <td>Q1067</td>\n      <td>P106</td>\n      <td>occupation</td>\n      <td>Q4964182</td>\n      <td>philosopher</td>\n      <td>0</td>\n      <td>Q670152</td>\n      <td>Germanophile</td>\n      <td>0</td>\n      <td>-1</td>\n      <td>Q148540</td>\n      <td>-1</td>\n      <td>-1</td>\n    </tr>\n    <tr>\n      <th>1518</th>\n      <td>Q1067</td>\n      <td>P106</td>\n      <td>occupation</td>\n      <td>Q58968</td>\n      <td>intellectual</td>\n      <td>0</td>\n      <td>Q670152</td>\n      <td>Germanophile</td>\n      <td>0</td>\n      <td>-1</td>\n      <td>Q148540</td>\n      <td>-1</td>\n      <td>-1</td>\n    </tr>\n    <tr>\n      <th>2070</th>\n      <td>Q107424</td>\n      <td>P106</td>\n      <td>occupation</td>\n      <td>Q486748</td>\n      <td>pianist</td>\n      <td>0</td>\n      <td>Q488205</td>\n      <td>singer-songwriter</td>\n      <td>0</td>\n      <td>-1</td>\n      <td>-1</td>\n      <td>-1</td>\n      <td>-1</td>\n    </tr>\n    <tr>\n      <th>912</th>\n      <td>Q107424</td>\n      <td>P106</td>\n      <td>occupation</td>\n      <td>Q639669</td>\n      <td>musician</td>\n      <td>0</td>\n      <td>Q488205</td>\n      <td>singer-songwriter</td>\n      <td>0</td>\n      <td>-1</td>\n      <td>-1</td>\n      <td>-1</td>\n      <td>-1</td>\n    </tr>\n    <tr>\n      <th>722</th>\n      <td>Q1274954</td>\n      <td>P106</td>\n      <td>occupation</td>\n      <td>Q1930187</td>\n      <td>journalist</td>\n      <td>0</td>\n      <td>Q2722764</td>\n      <td>radio personality</td>\n      <td>0</td>\n      <td>Q6581097</td>\n      <td>-1</td>\n      <td>-1</td>\n      <td>-1</td>\n    </tr>\n    <tr>\n      <th>...</th>\n      <td>...</td>\n      <td>...</td>\n      <td>...</td>\n      <td>...</td>\n      <td>...</td>\n      <td>...</td>\n      <td>...</td>\n      <td>...</td>\n      <td>...</td>\n      <td>...</td>\n      <td>...</td>\n      <td>...</td>\n      <td>...</td>\n    </tr>\n    <tr>\n      <th>1255</th>\n      <td>Q804182</td>\n      <td>P106</td>\n      <td>occupation</td>\n      <td>Q82955</td>\n      <td>politician</td>\n      <td>1</td>\n      <td>Q876864</td>\n      <td>contributing editor</td>\n      <td>0</td>\n      <td>-1</td>\n      <td>-1</td>\n      <td>-1</td>\n      <td>-1</td>\n    </tr>\n    <tr>\n      <th>1065</th>\n      <td>Q835766</td>\n      <td>P106</td>\n      <td>occupation</td>\n      <td>Q6625963</td>\n      <td>novelist</td>\n      <td>7</td>\n      <td>Q6625963</td>\n      <td>novelist</td>\n      <td>7</td>\n      <td>-1</td>\n      <td>-1</td>\n      <td>-1</td>\n      <td>-1</td>\n    </tr>\n    <tr>\n      <th>2383</th>\n      <td>Q835766</td>\n      <td>P106</td>\n      <td>occupation</td>\n      <td>Q622807</td>\n      <td>seiyū</td>\n      <td>0</td>\n      <td>Q6625963</td>\n      <td>novelist</td>\n      <td>7</td>\n      <td>-1</td>\n      <td>-1</td>\n      <td>-1</td>\n      <td>-1</td>\n    </tr>\n    <tr>\n      <th>485</th>\n      <td>Q971395</td>\n      <td>P106</td>\n      <td>occupation</td>\n      <td>Q82955</td>\n      <td>politician</td>\n      <td>1</td>\n      <td>Q82955</td>\n      <td>politician</td>\n      <td>1</td>\n      <td>-1</td>\n      <td>-1</td>\n      <td>-1</td>\n      <td>-1</td>\n    </tr>\n    <tr>\n      <th>1816</th>\n      <td>Q971395</td>\n      <td>P106</td>\n      <td>occupation</td>\n      <td>Q201788</td>\n      <td>historian</td>\n      <td>0</td>\n      <td>Q82955</td>\n      <td>politician</td>\n      <td>1</td>\n      <td>-1</td>\n      <td>-1</td>\n      <td>-1</td>\n      <td>-1</td>\n    </tr>\n  </tbody>\n</table>\n<p>73 rows × 13 columns</p>\n</div>"
     },
     "execution_count": 37,
     "metadata": {},
     "output_type": "execute_result"
    }
   ],
   "source": [
    "preds_df_onlymultiocc = preds_df_onlymultiocc.sort_values('head_id')\n",
    "preds_df_onlymultiocc"
   ],
   "metadata": {
    "collapsed": false
   }
  },
  {
   "cell_type": "markdown",
   "source": [
    "For SimKGC_IBSNPB, 73 rows are potentially affected. But how many of these rows are actual misclassifiations, i.e. potential false positives?"
   ],
   "metadata": {
    "collapsed": false
   }
  },
  {
   "cell_type": "code",
   "execution_count": 44,
   "outputs": [
    {
     "data": {
      "text/plain": "        head_id relation_id relation_label true_tail_id  \\\n2916      Q1067        P106     occupation     Q4964182   \n1518      Q1067        P106     occupation       Q58968   \n2070    Q107424        P106     occupation      Q486748   \n912     Q107424        P106     occupation      Q639669   \n722    Q1274954        P106     occupation     Q1930187   \n2889  Q17512078        P106     occupation      Q131512   \n2444   Q2150133        P106     occupation       Q16533   \n2812    Q231942        P106     occupation      Q486748   \n2652    Q231942        P106     occupation      Q753110   \n315     Q236370        P106     occupation      Q753110   \n3211    Q236370        P106     occupation      Q855091   \n1921   Q2713565        P106     occupation      Q483501   \n560   Q28791080        P106     occupation       Q42973   \n187     Q318462        P106     occupation       Q82955   \n2818   Q3242404        P106     occupation     Q2986228   \n2131   Q4228038        P106     occupation      Q628099   \n1473     Q44414        P106     occupation     Q3387717   \n1468     Q44414        P106     occupation      Q822146   \n237      Q44414        P106     occupation      Q639669   \n2157   Q4720002        P106     occupation       Q82955   \n360    Q5267978        P106     occupation      Q482980   \n1383   Q5267978        P106     occupation      Q753110   \n3685   Q5541005        P106     occupation       Q40348   \n2048     Q58793        P106     occupation      Q212980   \n477    Q6780980        P106     occupation       Q16533   \n2348   Q6850043        P106     occupation      Q188094   \n1739    Q695938        P106     occupation      Q185351   \n3630    Q695938        P106     occupation      Q205375   \n95      Q774923        P106     occupation      Q855091   \n508     Q774923        P106     occupation      Q488205   \n924    Q7817666        P106     occupation       Q33231   \n2824   Q7817666        P106     occupation       Q43845   \n646    Q7825274        P106     occupation       Q81096   \n1280    Q804182        P106     occupation     Q1930187   \n1065    Q835766        P106     occupation     Q6625963   \n485     Q971395        P106     occupation       Q82955   \n\n                   true_tail_label  true_tail_class_label pred_tail_id  \\\n2916                   philosopher                      0      Q670152   \n1518                  intellectual                      0      Q670152   \n2070                       pianist                      0      Q488205   \n912                       musician                      0      Q488205   \n722                     journalist                      0     Q2722764   \n2889                        farmer                      0      Q131512   \n2444                         judge                      0      Q883231   \n2812                       pianist                      0      Q488205   \n2652                    songwriter                      0      Q488205   \n315                     songwriter                      0      Q855091   \n3211                     guitarist                      0      Q855091   \n1921                        artist                      0      Q266569   \n560                      architect                      0       Q42973   \n187                     politician                      1       Q82955   \n2818            sports commentator                      0     Q1930187   \n2131  association football manager                      0      Q628099   \n1473           theatrical director                      0      Q266569   \n1468                      lyricist                      0      Q266569   \n237                       musician                      0      Q266569   \n2157                    politician                      1       Q82955   \n360                         author                      0      Q482980   \n1383                    songwriter                      0      Q482980   \n3685                        lawyer                      3       Q40348   \n2048                  psychologist                      0     Q4773904   \n477                          judge                      0      Q883231   \n2348                     economist                      0      Q188094   \n1739                        jurist                      0      Q169470   \n3630                      inventor                      0      Q169470   \n95                       guitarist                      0      Q488205   \n508              singer-songwriter                      0      Q488205   \n924                   photographer                      0      Q883231   \n2824                businessperson                      0      Q883231   \n646                       engineer                      0     Q1568338   \n1280                    journalist                      0      Q876864   \n1065                      novelist                      7     Q6625963   \n485                     politician                      1       Q82955   \n\n                   pred_tail_label  pred_tail_class_label       P21      P27  \\\n2916                  Germanophile                      0        -1  Q148540   \n1518                  Germanophile                      0        -1  Q148540   \n2070             singer-songwriter                      0        -1       -1   \n912              singer-songwriter                      0        -1       -1   \n722              radio personality                      0  Q6581097       -1   \n2889                        farmer                      0        -1       -1   \n2444                     law clerk                      0        -1       -1   \n2812             singer-songwriter                      0        -1       -1   \n2652             singer-songwriter                      0        -1       -1   \n315                      guitarist                      0        -1     Q262   \n3211                     guitarist                      0        -1     Q262   \n1921                      animator                      0  Q6581097       -1   \n560                      architect                      0        -1      Q30   \n187                     politician                      1        -1  Q174193   \n2818                    journalist                      0        -1       -1   \n2131  association football manager                      0        -1      Q22   \n1473                      animator                      0  Q6581097      Q30   \n1468                      animator                      0  Q6581097      Q30   \n237                       animator                      0  Q6581097      Q30   \n2157                    politician                      1        -1       -1   \n360                         author                      0        -1       -1   \n1383                        author                      0        -1       -1   \n3685                        lawyer                      3  Q6581097      Q30   \n2048                anthropologist                      0        -1       -1   \n477                      law clerk                      0        -1      Q30   \n2348                     economist                      0  Q6581097       -1   \n1739                     physicist                      0        -1       -1   \n3630                     physicist                      0        -1       -1   \n95               singer-songwriter                      0  Q6581097      Q30   \n508              singer-songwriter                      0  Q6581097      Q30   \n924                      law clerk                      0        -1       -1   \n2824                     law clerk                      0        -1       -1   \n646               technical writer                      0  Q6581097       -1   \n1280           contributing editor                      0        -1       -1   \n1065                      novelist                      7        -1       -1   \n485                     politician                      1        -1       -1   \n\n     P172 P140  \n2916   -1   -1  \n1518   -1   -1  \n2070   -1   -1  \n912    -1   -1  \n722    -1   -1  \n2889   -1   -1  \n2444   -1   -1  \n2812   -1   -1  \n2652   -1   -1  \n315    -1   -1  \n3211   -1   -1  \n1921   -1   -1  \n560    -1   -1  \n187    -1   -1  \n2818   -1   -1  \n2131   -1   -1  \n1473   -1   -1  \n1468   -1   -1  \n237    -1   -1  \n2157   -1   -1  \n360    -1   -1  \n1383   -1   -1  \n3685   -1   -1  \n2048   -1   -1  \n477    -1   -1  \n2348   -1   -1  \n1739   -1   -1  \n3630   -1   -1  \n95     -1   -1  \n508    -1   -1  \n924    -1   -1  \n2824   -1   -1  \n646    -1   -1  \n1280   -1   -1  \n1065   -1   -1  \n485    -1   -1  ",
      "text/html": "<div>\n<style scoped>\n    .dataframe tbody tr th:only-of-type {\n        vertical-align: middle;\n    }\n\n    .dataframe tbody tr th {\n        vertical-align: top;\n    }\n\n    .dataframe thead th {\n        text-align: right;\n    }\n</style>\n<table border=\"1\" class=\"dataframe\">\n  <thead>\n    <tr style=\"text-align: right;\">\n      <th></th>\n      <th>head_id</th>\n      <th>relation_id</th>\n      <th>relation_label</th>\n      <th>true_tail_id</th>\n      <th>true_tail_label</th>\n      <th>true_tail_class_label</th>\n      <th>pred_tail_id</th>\n      <th>pred_tail_label</th>\n      <th>pred_tail_class_label</th>\n      <th>P21</th>\n      <th>P27</th>\n      <th>P172</th>\n      <th>P140</th>\n    </tr>\n  </thead>\n  <tbody>\n    <tr>\n      <th>2916</th>\n      <td>Q1067</td>\n      <td>P106</td>\n      <td>occupation</td>\n      <td>Q4964182</td>\n      <td>philosopher</td>\n      <td>0</td>\n      <td>Q670152</td>\n      <td>Germanophile</td>\n      <td>0</td>\n      <td>-1</td>\n      <td>Q148540</td>\n      <td>-1</td>\n      <td>-1</td>\n    </tr>\n    <tr>\n      <th>1518</th>\n      <td>Q1067</td>\n      <td>P106</td>\n      <td>occupation</td>\n      <td>Q58968</td>\n      <td>intellectual</td>\n      <td>0</td>\n      <td>Q670152</td>\n      <td>Germanophile</td>\n      <td>0</td>\n      <td>-1</td>\n      <td>Q148540</td>\n      <td>-1</td>\n      <td>-1</td>\n    </tr>\n    <tr>\n      <th>2070</th>\n      <td>Q107424</td>\n      <td>P106</td>\n      <td>occupation</td>\n      <td>Q486748</td>\n      <td>pianist</td>\n      <td>0</td>\n      <td>Q488205</td>\n      <td>singer-songwriter</td>\n      <td>0</td>\n      <td>-1</td>\n      <td>-1</td>\n      <td>-1</td>\n      <td>-1</td>\n    </tr>\n    <tr>\n      <th>912</th>\n      <td>Q107424</td>\n      <td>P106</td>\n      <td>occupation</td>\n      <td>Q639669</td>\n      <td>musician</td>\n      <td>0</td>\n      <td>Q488205</td>\n      <td>singer-songwriter</td>\n      <td>0</td>\n      <td>-1</td>\n      <td>-1</td>\n      <td>-1</td>\n      <td>-1</td>\n    </tr>\n    <tr>\n      <th>722</th>\n      <td>Q1274954</td>\n      <td>P106</td>\n      <td>occupation</td>\n      <td>Q1930187</td>\n      <td>journalist</td>\n      <td>0</td>\n      <td>Q2722764</td>\n      <td>radio personality</td>\n      <td>0</td>\n      <td>Q6581097</td>\n      <td>-1</td>\n      <td>-1</td>\n      <td>-1</td>\n    </tr>\n    <tr>\n      <th>2889</th>\n      <td>Q17512078</td>\n      <td>P106</td>\n      <td>occupation</td>\n      <td>Q131512</td>\n      <td>farmer</td>\n      <td>0</td>\n      <td>Q131512</td>\n      <td>farmer</td>\n      <td>0</td>\n      <td>-1</td>\n      <td>-1</td>\n      <td>-1</td>\n      <td>-1</td>\n    </tr>\n    <tr>\n      <th>2444</th>\n      <td>Q2150133</td>\n      <td>P106</td>\n      <td>occupation</td>\n      <td>Q16533</td>\n      <td>judge</td>\n      <td>0</td>\n      <td>Q883231</td>\n      <td>law clerk</td>\n      <td>0</td>\n      <td>-1</td>\n      <td>-1</td>\n      <td>-1</td>\n      <td>-1</td>\n    </tr>\n    <tr>\n      <th>2812</th>\n      <td>Q231942</td>\n      <td>P106</td>\n      <td>occupation</td>\n      <td>Q486748</td>\n      <td>pianist</td>\n      <td>0</td>\n      <td>Q488205</td>\n      <td>singer-songwriter</td>\n      <td>0</td>\n      <td>-1</td>\n      <td>-1</td>\n      <td>-1</td>\n      <td>-1</td>\n    </tr>\n    <tr>\n      <th>2652</th>\n      <td>Q231942</td>\n      <td>P106</td>\n      <td>occupation</td>\n      <td>Q753110</td>\n      <td>songwriter</td>\n      <td>0</td>\n      <td>Q488205</td>\n      <td>singer-songwriter</td>\n      <td>0</td>\n      <td>-1</td>\n      <td>-1</td>\n      <td>-1</td>\n      <td>-1</td>\n    </tr>\n    <tr>\n      <th>315</th>\n      <td>Q236370</td>\n      <td>P106</td>\n      <td>occupation</td>\n      <td>Q753110</td>\n      <td>songwriter</td>\n      <td>0</td>\n      <td>Q855091</td>\n      <td>guitarist</td>\n      <td>0</td>\n      <td>-1</td>\n      <td>Q262</td>\n      <td>-1</td>\n      <td>-1</td>\n    </tr>\n    <tr>\n      <th>3211</th>\n      <td>Q236370</td>\n      <td>P106</td>\n      <td>occupation</td>\n      <td>Q855091</td>\n      <td>guitarist</td>\n      <td>0</td>\n      <td>Q855091</td>\n      <td>guitarist</td>\n      <td>0</td>\n      <td>-1</td>\n      <td>Q262</td>\n      <td>-1</td>\n      <td>-1</td>\n    </tr>\n    <tr>\n      <th>1921</th>\n      <td>Q2713565</td>\n      <td>P106</td>\n      <td>occupation</td>\n      <td>Q483501</td>\n      <td>artist</td>\n      <td>0</td>\n      <td>Q266569</td>\n      <td>animator</td>\n      <td>0</td>\n      <td>Q6581097</td>\n      <td>-1</td>\n      <td>-1</td>\n      <td>-1</td>\n    </tr>\n    <tr>\n      <th>560</th>\n      <td>Q28791080</td>\n      <td>P106</td>\n      <td>occupation</td>\n      <td>Q42973</td>\n      <td>architect</td>\n      <td>0</td>\n      <td>Q42973</td>\n      <td>architect</td>\n      <td>0</td>\n      <td>-1</td>\n      <td>Q30</td>\n      <td>-1</td>\n      <td>-1</td>\n    </tr>\n    <tr>\n      <th>187</th>\n      <td>Q318462</td>\n      <td>P106</td>\n      <td>occupation</td>\n      <td>Q82955</td>\n      <td>politician</td>\n      <td>1</td>\n      <td>Q82955</td>\n      <td>politician</td>\n      <td>1</td>\n      <td>-1</td>\n      <td>Q174193</td>\n      <td>-1</td>\n      <td>-1</td>\n    </tr>\n    <tr>\n      <th>2818</th>\n      <td>Q3242404</td>\n      <td>P106</td>\n      <td>occupation</td>\n      <td>Q2986228</td>\n      <td>sports commentator</td>\n      <td>0</td>\n      <td>Q1930187</td>\n      <td>journalist</td>\n      <td>0</td>\n      <td>-1</td>\n      <td>-1</td>\n      <td>-1</td>\n      <td>-1</td>\n    </tr>\n    <tr>\n      <th>2131</th>\n      <td>Q4228038</td>\n      <td>P106</td>\n      <td>occupation</td>\n      <td>Q628099</td>\n      <td>association football manager</td>\n      <td>0</td>\n      <td>Q628099</td>\n      <td>association football manager</td>\n      <td>0</td>\n      <td>-1</td>\n      <td>Q22</td>\n      <td>-1</td>\n      <td>-1</td>\n    </tr>\n    <tr>\n      <th>1473</th>\n      <td>Q44414</td>\n      <td>P106</td>\n      <td>occupation</td>\n      <td>Q3387717</td>\n      <td>theatrical director</td>\n      <td>0</td>\n      <td>Q266569</td>\n      <td>animator</td>\n      <td>0</td>\n      <td>Q6581097</td>\n      <td>Q30</td>\n      <td>-1</td>\n      <td>-1</td>\n    </tr>\n    <tr>\n      <th>1468</th>\n      <td>Q44414</td>\n      <td>P106</td>\n      <td>occupation</td>\n      <td>Q822146</td>\n      <td>lyricist</td>\n      <td>0</td>\n      <td>Q266569</td>\n      <td>animator</td>\n      <td>0</td>\n      <td>Q6581097</td>\n      <td>Q30</td>\n      <td>-1</td>\n      <td>-1</td>\n    </tr>\n    <tr>\n      <th>237</th>\n      <td>Q44414</td>\n      <td>P106</td>\n      <td>occupation</td>\n      <td>Q639669</td>\n      <td>musician</td>\n      <td>0</td>\n      <td>Q266569</td>\n      <td>animator</td>\n      <td>0</td>\n      <td>Q6581097</td>\n      <td>Q30</td>\n      <td>-1</td>\n      <td>-1</td>\n    </tr>\n    <tr>\n      <th>2157</th>\n      <td>Q4720002</td>\n      <td>P106</td>\n      <td>occupation</td>\n      <td>Q82955</td>\n      <td>politician</td>\n      <td>1</td>\n      <td>Q82955</td>\n      <td>politician</td>\n      <td>1</td>\n      <td>-1</td>\n      <td>-1</td>\n      <td>-1</td>\n      <td>-1</td>\n    </tr>\n    <tr>\n      <th>360</th>\n      <td>Q5267978</td>\n      <td>P106</td>\n      <td>occupation</td>\n      <td>Q482980</td>\n      <td>author</td>\n      <td>0</td>\n      <td>Q482980</td>\n      <td>author</td>\n      <td>0</td>\n      <td>-1</td>\n      <td>-1</td>\n      <td>-1</td>\n      <td>-1</td>\n    </tr>\n    <tr>\n      <th>1383</th>\n      <td>Q5267978</td>\n      <td>P106</td>\n      <td>occupation</td>\n      <td>Q753110</td>\n      <td>songwriter</td>\n      <td>0</td>\n      <td>Q482980</td>\n      <td>author</td>\n      <td>0</td>\n      <td>-1</td>\n      <td>-1</td>\n      <td>-1</td>\n      <td>-1</td>\n    </tr>\n    <tr>\n      <th>3685</th>\n      <td>Q5541005</td>\n      <td>P106</td>\n      <td>occupation</td>\n      <td>Q40348</td>\n      <td>lawyer</td>\n      <td>3</td>\n      <td>Q40348</td>\n      <td>lawyer</td>\n      <td>3</td>\n      <td>Q6581097</td>\n      <td>Q30</td>\n      <td>-1</td>\n      <td>-1</td>\n    </tr>\n    <tr>\n      <th>2048</th>\n      <td>Q58793</td>\n      <td>P106</td>\n      <td>occupation</td>\n      <td>Q212980</td>\n      <td>psychologist</td>\n      <td>0</td>\n      <td>Q4773904</td>\n      <td>anthropologist</td>\n      <td>0</td>\n      <td>-1</td>\n      <td>-1</td>\n      <td>-1</td>\n      <td>-1</td>\n    </tr>\n    <tr>\n      <th>477</th>\n      <td>Q6780980</td>\n      <td>P106</td>\n      <td>occupation</td>\n      <td>Q16533</td>\n      <td>judge</td>\n      <td>0</td>\n      <td>Q883231</td>\n      <td>law clerk</td>\n      <td>0</td>\n      <td>-1</td>\n      <td>Q30</td>\n      <td>-1</td>\n      <td>-1</td>\n    </tr>\n    <tr>\n      <th>2348</th>\n      <td>Q6850043</td>\n      <td>P106</td>\n      <td>occupation</td>\n      <td>Q188094</td>\n      <td>economist</td>\n      <td>0</td>\n      <td>Q188094</td>\n      <td>economist</td>\n      <td>0</td>\n      <td>Q6581097</td>\n      <td>-1</td>\n      <td>-1</td>\n      <td>-1</td>\n    </tr>\n    <tr>\n      <th>1739</th>\n      <td>Q695938</td>\n      <td>P106</td>\n      <td>occupation</td>\n      <td>Q185351</td>\n      <td>jurist</td>\n      <td>0</td>\n      <td>Q169470</td>\n      <td>physicist</td>\n      <td>0</td>\n      <td>-1</td>\n      <td>-1</td>\n      <td>-1</td>\n      <td>-1</td>\n    </tr>\n    <tr>\n      <th>3630</th>\n      <td>Q695938</td>\n      <td>P106</td>\n      <td>occupation</td>\n      <td>Q205375</td>\n      <td>inventor</td>\n      <td>0</td>\n      <td>Q169470</td>\n      <td>physicist</td>\n      <td>0</td>\n      <td>-1</td>\n      <td>-1</td>\n      <td>-1</td>\n      <td>-1</td>\n    </tr>\n    <tr>\n      <th>95</th>\n      <td>Q774923</td>\n      <td>P106</td>\n      <td>occupation</td>\n      <td>Q855091</td>\n      <td>guitarist</td>\n      <td>0</td>\n      <td>Q488205</td>\n      <td>singer-songwriter</td>\n      <td>0</td>\n      <td>Q6581097</td>\n      <td>Q30</td>\n      <td>-1</td>\n      <td>-1</td>\n    </tr>\n    <tr>\n      <th>508</th>\n      <td>Q774923</td>\n      <td>P106</td>\n      <td>occupation</td>\n      <td>Q488205</td>\n      <td>singer-songwriter</td>\n      <td>0</td>\n      <td>Q488205</td>\n      <td>singer-songwriter</td>\n      <td>0</td>\n      <td>Q6581097</td>\n      <td>Q30</td>\n      <td>-1</td>\n      <td>-1</td>\n    </tr>\n    <tr>\n      <th>924</th>\n      <td>Q7817666</td>\n      <td>P106</td>\n      <td>occupation</td>\n      <td>Q33231</td>\n      <td>photographer</td>\n      <td>0</td>\n      <td>Q883231</td>\n      <td>law clerk</td>\n      <td>0</td>\n      <td>-1</td>\n      <td>-1</td>\n      <td>-1</td>\n      <td>-1</td>\n    </tr>\n    <tr>\n      <th>2824</th>\n      <td>Q7817666</td>\n      <td>P106</td>\n      <td>occupation</td>\n      <td>Q43845</td>\n      <td>businessperson</td>\n      <td>0</td>\n      <td>Q883231</td>\n      <td>law clerk</td>\n      <td>0</td>\n      <td>-1</td>\n      <td>-1</td>\n      <td>-1</td>\n      <td>-1</td>\n    </tr>\n    <tr>\n      <th>646</th>\n      <td>Q7825274</td>\n      <td>P106</td>\n      <td>occupation</td>\n      <td>Q81096</td>\n      <td>engineer</td>\n      <td>0</td>\n      <td>Q1568338</td>\n      <td>technical writer</td>\n      <td>0</td>\n      <td>Q6581097</td>\n      <td>-1</td>\n      <td>-1</td>\n      <td>-1</td>\n    </tr>\n    <tr>\n      <th>1280</th>\n      <td>Q804182</td>\n      <td>P106</td>\n      <td>occupation</td>\n      <td>Q1930187</td>\n      <td>journalist</td>\n      <td>0</td>\n      <td>Q876864</td>\n      <td>contributing editor</td>\n      <td>0</td>\n      <td>-1</td>\n      <td>-1</td>\n      <td>-1</td>\n      <td>-1</td>\n    </tr>\n    <tr>\n      <th>1065</th>\n      <td>Q835766</td>\n      <td>P106</td>\n      <td>occupation</td>\n      <td>Q6625963</td>\n      <td>novelist</td>\n      <td>7</td>\n      <td>Q6625963</td>\n      <td>novelist</td>\n      <td>7</td>\n      <td>-1</td>\n      <td>-1</td>\n      <td>-1</td>\n      <td>-1</td>\n    </tr>\n    <tr>\n      <th>485</th>\n      <td>Q971395</td>\n      <td>P106</td>\n      <td>occupation</td>\n      <td>Q82955</td>\n      <td>politician</td>\n      <td>1</td>\n      <td>Q82955</td>\n      <td>politician</td>\n      <td>1</td>\n      <td>-1</td>\n      <td>-1</td>\n      <td>-1</td>\n      <td>-1</td>\n    </tr>\n  </tbody>\n</table>\n</div>"
     },
     "execution_count": 44,
     "metadata": {},
     "output_type": "execute_result"
    }
   ],
   "source": [
    "preds_df_onlymultiocc[preds_df_onlymultiocc['true_tail_class_label'] == preds_df_onlymultiocc['pred_tail_class_label']]"
   ],
   "metadata": {
    "collapsed": false
   }
  },
  {
   "cell_type": "markdown",
   "source": [
    "First: There are in total 37 misclassifications."
   ],
   "metadata": {
    "collapsed": false
   }
  },
  {
   "cell_type": "markdown",
   "source": [
    "During the sampling of Wikidata5M a random approach is taken, leaving a few questions. In the HUMANW5M-3MIL dataset, it's mentioned that there is no female screenwriter, **but were there any in the initial 11M triples?** If yes, this implies that some level of bias was already introduced during the creation of the proposed dataset."
   ],
   "metadata": {
    "collapsed": false
   }
  },
  {
   "cell_type": "code",
   "execution_count": 4,
   "outputs": [
    {
     "name": "stdout",
     "output_type": "stream",
     "text": [
      "<class 'pandas.core.frame.DataFrame'>\n",
      "RangeIndex: 2791044 entries, 0 to 2791043\n",
      "Data columns (total 3 columns):\n",
      " #   Column       Dtype \n",
      "---  ------       ----- \n",
      " 0   head_entity  object\n",
      " 1   relation     object\n",
      " 2   tail_entity  object\n",
      "dtypes: object(3)\n",
      "memory usage: 63.9+ MB\n"
     ]
    }
   ],
   "source": [
    "# load each split\n",
    "HW5M3MIL_train = pd.read_csv('/home/lena/git/master_thesis_bias_in_NLP/data/processed/output_of_preprocessing/training_data_subset_0.9_rs42_06_05_2022_15:11.tsv',\n",
    "                         sep = '\\t', names = ['head_entity', 'relation', 'tail_entity'])\n",
    "HW5M3MIL_train.head()\n",
    "HW5M3MIL_train.info()"
   ],
   "metadata": {
    "collapsed": false
   }
  },
  {
   "cell_type": "code",
   "execution_count": 5,
   "outputs": [
    {
     "name": "stdout",
     "output_type": "stream",
     "text": [
      "<class 'pandas.core.frame.DataFrame'>\n",
      "RangeIndex: 155058 entries, 0 to 155057\n",
      "Data columns (total 3 columns):\n",
      " #   Column       Non-Null Count   Dtype \n",
      "---  ------       --------------   ----- \n",
      " 0   head_entity  155058 non-null  object\n",
      " 1   relation     155058 non-null  object\n",
      " 2   tail_entity  155058 non-null  object\n",
      "dtypes: object(3)\n",
      "memory usage: 3.5+ MB\n"
     ]
    }
   ],
   "source": [
    "# load each split\n",
    "HW5M3MIL_val = pd.read_csv('/home/lena/git/master_thesis_bias_in_NLP/data/processed/output_of_preprocessing/validation_data_subset_0.05_rs42_06_05_2022_15:11.tsv',\n",
    "                         sep = '\\t', names = ['head_entity', 'relation', 'tail_entity'])\n",
    "HW5M3MIL_val.head()\n",
    "HW5M3MIL_val.info()"
   ],
   "metadata": {
    "collapsed": false
   }
  },
  {
   "cell_type": "code",
   "execution_count": 6,
   "outputs": [
    {
     "name": "stdout",
     "output_type": "stream",
     "text": [
      "<class 'pandas.core.frame.DataFrame'>\n",
      "RangeIndex: 155058 entries, 0 to 155057\n",
      "Data columns (total 3 columns):\n",
      " #   Column       Non-Null Count   Dtype \n",
      "---  ------       --------------   ----- \n",
      " 0   head_entity  155058 non-null  object\n",
      " 1   relation     155058 non-null  object\n",
      " 2   tail_entity  155058 non-null  object\n",
      "dtypes: object(3)\n",
      "memory usage: 3.5+ MB\n"
     ]
    }
   ],
   "source": [
    "# load each split\n",
    "HW5M3MIL_test = pd.read_csv('/home/lena/git/master_thesis_bias_in_NLP/data/processed/output_of_preprocessing/test_data_subset_0.05_rs42_06_05_2022_15:11.tsv',\n",
    "                         sep = '\\t', names = ['head_entity', 'relation', 'tail_entity'])\n",
    "HW5M3MIL_test.head()\n",
    "HW5M3MIL_test.info()"
   ],
   "metadata": {
    "collapsed": false
   }
  },
  {
   "cell_type": "code",
   "execution_count": 29,
   "outputs": [
    {
     "name": "stdout",
     "output_type": "stream",
     "text": [
      "<class 'pandas.core.frame.DataFrame'>\n",
      "Int64Index: 5685 entries, 427 to 2789219\n",
      "Data columns (total 3 columns):\n",
      " #   Column       Non-Null Count  Dtype \n",
      "---  ------       --------------  ----- \n",
      " 0   head_entity  5685 non-null   object\n",
      " 1   relation     5685 non-null   object\n",
      " 2   tail_entity  5685 non-null   object\n",
      "dtypes: object(3)\n",
      "memory usage: 177.7+ KB\n"
     ]
    },
    {
     "data": {
      "text/plain": "5685"
     },
     "execution_count": 29,
     "metadata": {},
     "output_type": "execute_result"
    }
   ],
   "source": [
    "# how many female screenwriters in train?\n",
    "\n",
    "# 1. extract the screenwriters\n",
    "# relation: occupation = P106\n",
    "# tail screenwriter = Q28389\n",
    "screenwriters_train = HW5M3MIL_train[(HW5M3MIL_train['relation'] == 'P106') & (HW5M3MIL_train['tail_entity'] == 'Q28389')]\n",
    "screenwriters_train.info()\n",
    "# 5685 in total\n",
    "set_of_screenwriters_train = set(screenwriters_train['head_entity'])\n",
    "len(set_of_screenwriters_train)"
   ],
   "metadata": {
    "collapsed": false
   }
  },
  {
   "cell_type": "code",
   "execution_count": 40,
   "outputs": [
    {
     "data": {
      "text/plain": "Q6581097    1087\nQ6581072     199\nName: tail_entity, dtype: int64"
     },
     "execution_count": 40,
     "metadata": {},
     "output_type": "execute_result"
    }
   ],
   "source": [
    "# 2. which of these are female?\n",
    "female_gender_entity = 'Q6581072'\n",
    "male_gender_entity = 'Q6581097'\n",
    "gender_relation = 'P21'\n",
    "\n",
    "screenwriter_all_facts_mask = HW5M3MIL_train['head_entity'].isin(set_of_screenwriters_train)\n",
    "screenwriter_all_facts = HW5M3MIL_train[screenwriter_all_facts_mask]\n",
    "\n",
    "screenwriter_female_gender_facts = screenwriter_all_facts[(screenwriter_all_facts['relation'] == gender_relation)]#screenwriter_all_facts['tail_entity'] == male_gender_entity]\n",
    "screenwriter_female_gender_facts['tail_entity'].value_counts()"
   ],
   "metadata": {
    "collapsed": false
   }
  },
  {
   "cell_type": "code",
   "execution_count": 38,
   "outputs": [
    {
     "data": {
      "text/plain": "        head_entity relation tail_entity\n1329373    Q2357826      P21    Q6581097\n1329468    Q1702239      P21    Q6581097\n1329952    Q3161467      P21    Q6581097\n1331079   Q16556648      P21    Q6581097\n1331956   Q18062161      P21    Q6581097\n...             ...      ...         ...\n2786488    Q3953024      P21    Q6581097\n2786528     Q275920      P21    Q6581072\n2788954    Q4662138      P21    Q6581097\n2789897     Q361981      P21    Q6581097\n2790738     Q386131      P21    Q6581072\n\n[1286 rows x 3 columns]",
      "text/html": "<div>\n<style scoped>\n    .dataframe tbody tr th:only-of-type {\n        vertical-align: middle;\n    }\n\n    .dataframe tbody tr th {\n        vertical-align: top;\n    }\n\n    .dataframe thead th {\n        text-align: right;\n    }\n</style>\n<table border=\"1\" class=\"dataframe\">\n  <thead>\n    <tr style=\"text-align: right;\">\n      <th></th>\n      <th>head_entity</th>\n      <th>relation</th>\n      <th>tail_entity</th>\n    </tr>\n  </thead>\n  <tbody>\n    <tr>\n      <th>1329373</th>\n      <td>Q2357826</td>\n      <td>P21</td>\n      <td>Q6581097</td>\n    </tr>\n    <tr>\n      <th>1329468</th>\n      <td>Q1702239</td>\n      <td>P21</td>\n      <td>Q6581097</td>\n    </tr>\n    <tr>\n      <th>1329952</th>\n      <td>Q3161467</td>\n      <td>P21</td>\n      <td>Q6581097</td>\n    </tr>\n    <tr>\n      <th>1331079</th>\n      <td>Q16556648</td>\n      <td>P21</td>\n      <td>Q6581097</td>\n    </tr>\n    <tr>\n      <th>1331956</th>\n      <td>Q18062161</td>\n      <td>P21</td>\n      <td>Q6581097</td>\n    </tr>\n    <tr>\n      <th>...</th>\n      <td>...</td>\n      <td>...</td>\n      <td>...</td>\n    </tr>\n    <tr>\n      <th>2786488</th>\n      <td>Q3953024</td>\n      <td>P21</td>\n      <td>Q6581097</td>\n    </tr>\n    <tr>\n      <th>2786528</th>\n      <td>Q275920</td>\n      <td>P21</td>\n      <td>Q6581072</td>\n    </tr>\n    <tr>\n      <th>2788954</th>\n      <td>Q4662138</td>\n      <td>P21</td>\n      <td>Q6581097</td>\n    </tr>\n    <tr>\n      <th>2789897</th>\n      <td>Q361981</td>\n      <td>P21</td>\n      <td>Q6581097</td>\n    </tr>\n    <tr>\n      <th>2790738</th>\n      <td>Q386131</td>\n      <td>P21</td>\n      <td>Q6581072</td>\n    </tr>\n  </tbody>\n</table>\n<p>1286 rows × 3 columns</p>\n</div>"
     },
     "execution_count": 38,
     "metadata": {},
     "output_type": "execute_result"
    }
   ],
   "source": [
    "screenwriter_female_gender_facts"
   ],
   "metadata": {
    "collapsed": false
   }
  },
  {
   "cell_type": "code",
   "execution_count": 41,
   "outputs": [
    {
     "name": "stdout",
     "output_type": "stream",
     "text": [
      "<class 'pandas.core.frame.DataFrame'>\n",
      "Int64Index: 105 entries, 1341 to 154417\n",
      "Data columns (total 3 columns):\n",
      " #   Column       Non-Null Count  Dtype \n",
      "---  ------       --------------  ----- \n",
      " 0   head_entity  105 non-null    object\n",
      " 1   relation     105 non-null    object\n",
      " 2   tail_entity  105 non-null    object\n",
      "dtypes: object(3)\n",
      "memory usage: 3.3+ KB\n"
     ]
    },
    {
     "data": {
      "text/plain": "Q6581097    2\nName: tail_entity, dtype: int64"
     },
     "execution_count": 41,
     "metadata": {},
     "output_type": "execute_result"
    }
   ],
   "source": [
    "# how many female screenwriters in val?\n",
    "\n",
    "# 1. extract the screenwriters\n",
    "# relation: occupation = P106\n",
    "# tail screenwriter = Q28389\n",
    "screenwriters_val = HW5M3MIL_val[(HW5M3MIL_val['relation'] == 'P106') & (HW5M3MIL_val['tail_entity'] == 'Q28389')]\n",
    "screenwriters_val.info()\n",
    "# 5685 in total\n",
    "set_of_screenwriters_val = set(screenwriters_val['head_entity'])\n",
    "len(set_of_screenwriters_val)\n",
    "# 2. which of these are female?\n",
    "female_gender_entity = 'Q6581072'\n",
    "male_gender_entity = 'Q6581097'\n",
    "gender_relation = 'P21'\n",
    "\n",
    "screenwriter_all_facts_mask = HW5M3MIL_val['head_entity'].isin(set_of_screenwriters_val)\n",
    "screenwriter_all_facts = HW5M3MIL_val[screenwriter_all_facts_mask]\n",
    "\n",
    "screenwriter_female_gender_facts = screenwriter_all_facts[(screenwriter_all_facts['relation'] == gender_relation)]#screenwriter_all_facts['tail_entity'] == male_gender_entity]\n",
    "screenwriter_female_gender_facts['tail_entity'].value_counts()\n"
   ],
   "metadata": {
    "collapsed": false
   }
  },
  {
   "cell_type": "code",
   "execution_count": 42,
   "outputs": [
    {
     "name": "stdout",
     "output_type": "stream",
     "text": [
      "<class 'pandas.core.frame.DataFrame'>\n",
      "Int64Index: 106 entries, 12 to 151866\n",
      "Data columns (total 3 columns):\n",
      " #   Column       Non-Null Count  Dtype \n",
      "---  ------       --------------  ----- \n",
      " 0   head_entity  106 non-null    object\n",
      " 1   relation     106 non-null    object\n",
      " 2   tail_entity  106 non-null    object\n",
      "dtypes: object(3)\n",
      "memory usage: 3.3+ KB\n"
     ]
    },
    {
     "data": {
      "text/plain": "Q6581097    1\nName: tail_entity, dtype: int64"
     },
     "execution_count": 42,
     "metadata": {},
     "output_type": "execute_result"
    }
   ],
   "source": [
    "# how many female screenwriters in test?\n",
    "\n",
    "# 1. extract the screenwriters\n",
    "# relation: occupation = P106\n",
    "# tail screenwriter = Q28389\n",
    "screenwriters_test = HW5M3MIL_test[(HW5M3MIL_test['relation'] == 'P106') & (HW5M3MIL_test['tail_entity'] == 'Q28389')]\n",
    "screenwriters_test.info()\n",
    "# 5685 in total\n",
    "set_of_screenwriters_test = set(screenwriters_test['head_entity'])\n",
    "len(set_of_screenwriters_test)\n",
    "# 2. which of these are female?\n",
    "female_gender_entity = 'Q6581072'\n",
    "male_gender_entity = 'Q6581097'\n",
    "gender_relation = 'P21'\n",
    "\n",
    "screenwriter_all_facts_mask = HW5M3MIL_test['head_entity'].isin(set_of_screenwriters_test)\n",
    "screenwriter_all_facts = HW5M3MIL_test[screenwriter_all_facts_mask]\n",
    "\n",
    "screenwriter_female_gender_facts = screenwriter_all_facts[(screenwriter_all_facts['relation'] == gender_relation)]#screenwriter_all_facts['tail_entity'] == male_gender_entity]\n",
    "screenwriter_female_gender_facts['tail_entity'].value_counts()\n"
   ],
   "metadata": {
    "collapsed": false
   }
  },
  {
   "cell_type": "code",
   "execution_count": null,
   "outputs": [],
   "source": [
    "# And how many are there in the"
   ],
   "metadata": {
    "collapsed": false
   }
  },
  {
   "cell_type": "code",
   "execution_count": 43,
   "outputs": [
    {
     "name": "stdout",
     "output_type": "stream",
     "text": [
      "<class 'pandas.core.frame.DataFrame'>\n",
      "RangeIndex: 11114797 entries, 0 to 11114796\n",
      "Data columns (total 3 columns):\n",
      " #   Column       Dtype \n",
      "---  ------       ----- \n",
      " 0   head_entity  object\n",
      " 1   relation     object\n",
      " 2   tail_entity  object\n",
      "dtypes: object(3)\n",
      "memory usage: 254.4+ MB\n"
     ]
    }
   ],
   "source": [
    "HW5M11mil = pd.read_csv('/home/lena/git/master_thesis_bias_in_NLP/data/interim/wikidata5m_human_facts_with_binary_gender_added_01042022_v3.tsv',\n",
    "                         sep = '\\t', names = ['head_entity', 'relation', 'tail_entity'])\n",
    "HW5M11mil.info()"
   ],
   "metadata": {
    "collapsed": false
   }
  },
  {
   "cell_type": "code",
   "execution_count": 44,
   "outputs": [
    {
     "name": "stdout",
     "output_type": "stream",
     "text": [
      "<class 'pandas.core.frame.DataFrame'>\n",
      "Int64Index: 21146 entries, 548 to 9612760\n",
      "Data columns (total 3 columns):\n",
      " #   Column       Non-Null Count  Dtype \n",
      "---  ------       --------------  ----- \n",
      " 0   head_entity  21146 non-null  object\n",
      " 1   relation     21146 non-null  object\n",
      " 2   tail_entity  21146 non-null  object\n",
      "dtypes: object(3)\n",
      "memory usage: 660.8+ KB\n"
     ]
    },
    {
     "data": {
      "text/plain": "Q6581097    17778\nQ6581072     3362\nName: tail_entity, dtype: int64"
     },
     "execution_count": 44,
     "metadata": {},
     "output_type": "execute_result"
    }
   ],
   "source": [
    "# how many female screenwriters in HW5M11mil?\n",
    "\n",
    "# 1. extract the screenwriters\n",
    "# relation: occupation = P106\n",
    "# tail screenwriter = Q28389\n",
    "screenwriters_HW5M11mil = HW5M11mil[(HW5M11mil['relation'] == 'P106') & (HW5M11mil['tail_entity'] == 'Q28389')]\n",
    "screenwriters_HW5M11mil.info()\n",
    "# 5685 in total\n",
    "set_of_screenwriters_HW5M11mil = set(screenwriters_HW5M11mil['head_entity'])\n",
    "len(set_of_screenwriters_HW5M11mil)\n",
    "# 2. which of these are female?\n",
    "female_gender_entity = 'Q6581072'\n",
    "male_gender_entity = 'Q6581097'\n",
    "gender_relation = 'P21'\n",
    "\n",
    "screenwriter_all_facts_mask = HW5M11mil['head_entity'].isin(set_of_screenwriters_HW5M11mil)\n",
    "screenwriter_all_facts = HW5M11mil[screenwriter_all_facts_mask]\n",
    "\n",
    "screenwriter_female_gender_facts = screenwriter_all_facts[(screenwriter_all_facts['relation'] == gender_relation)]#screenwriter_all_facts['tail_entity'] == male_gender_entity]\n",
    "screenwriter_female_gender_facts['tail_entity'].value_counts()"
   ],
   "metadata": {
    "collapsed": false
   }
  },
  {
   "cell_type": "code",
   "execution_count": 45,
   "outputs": [
    {
     "data": {
      "text/plain": "0.15903500473036897"
     },
     "execution_count": 45,
     "metadata": {},
     "output_type": "execute_result"
    }
   ],
   "source": [
    "# female screenwriter percentage in 11mil\n",
    "3362/(3362+17778)\n"
   ],
   "metadata": {
    "collapsed": false
   }
  },
  {
   "cell_type": "code",
   "execution_count": 46,
   "outputs": [
    {
     "data": {
      "text/plain": "0.840964995269631"
     },
     "execution_count": 46,
     "metadata": {},
     "output_type": "execute_result"
    }
   ],
   "source": [
    "# male screenwriter percentage in 11mil\n",
    "17778/(3362+17778)"
   ],
   "metadata": {
    "collapsed": false
   }
  },
  {
   "cell_type": "code",
   "execution_count": 47,
   "outputs": [
    {
     "data": {
      "text/plain": "0.1547433903576983"
     },
     "execution_count": 47,
     "metadata": {},
     "output_type": "execute_result"
    }
   ],
   "source": [
    "# female screenwriter percentage in 3mil\n",
    "199/(1087+199)"
   ],
   "metadata": {
    "collapsed": false
   }
  },
  {
   "cell_type": "code",
   "execution_count": 48,
   "outputs": [
    {
     "data": {
      "text/plain": "0.8452566096423018"
     },
     "execution_count": 48,
     "metadata": {},
     "output_type": "execute_result"
    }
   ],
   "source": [
    "# female screenwriter percentage in 3mil\n",
    "1087/(1087+199)"
   ],
   "metadata": {
    "collapsed": false
   }
  },
  {
   "cell_type": "code",
   "execution_count": null,
   "outputs": [],
   "source": [],
   "metadata": {
    "collapsed": false
   }
  }
 ],
 "metadata": {
  "kernelspec": {
   "display_name": "Python 3",
   "language": "python",
   "name": "python3"
  },
  "language_info": {
   "codemirror_mode": {
    "name": "ipython",
    "version": 2
   },
   "file_extension": ".py",
   "mimetype": "text/x-python",
   "name": "python",
   "nbconvert_exporter": "python",
   "pygments_lexer": "ipython2",
   "version": "2.7.6"
  }
 },
 "nbformat": 4,
 "nbformat_minor": 0
}
