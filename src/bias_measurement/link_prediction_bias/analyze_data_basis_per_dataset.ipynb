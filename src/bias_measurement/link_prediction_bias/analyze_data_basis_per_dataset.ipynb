{
 "cells": [
  {
   "cell_type": "code",
   "execution_count": 1,
   "metadata": {
    "collapsed": true,
    "pycharm": {
     "name": "#%%\n"
    }
   },
   "outputs": [],
   "source": [
    "# %% Imports\n",
    "# In-built modules\n",
    "import os\n",
    "from collections import Counter\n",
    "\n",
    "import pandas as pd\n",
    "import matplotlib.pyplot as plt\n",
    "import numpy as np\n",
    "import pykeen\n",
    "import torch\n",
    "from tqdm import tqdm\n",
    "\n",
    "# Internal Imports\n",
    "from src.utils import set_base_path_based_on_host, HumanWikidata5M_pykeen\n",
    "from src.bias_measurement.link_prediction_bias.utils import get_sensitive_and_target_relations\n",
    "\n",
    "pd.set_option('display.max_columns', 1000)\n",
    "pd.set_option('display.width', 750)\n",
    "pd.set_option('display.min_rows', 20)\n",
    "pd.set_option('display.max_rows', 20)\n",
    "\n",
    "BASE_PATH_HOST = set_base_path_based_on_host()"
   ]
  },
  {
   "cell_type": "markdown",
   "source": [
    "# Make analysis for final subset of HumanWikidata5M"
   ],
   "metadata": {
    "collapsed": false,
    "pycharm": {
     "name": "#%% md\n"
    }
   }
  },
  {
   "cell_type": "markdown",
   "source": [
    "## Target relation: occupation"
   ],
   "metadata": {
    "collapsed": false,
    "pycharm": {
     "name": "#%% md\n"
    }
   }
  },
  {
   "cell_type": "code",
   "execution_count": 18,
   "outputs": [],
   "source": [
    "occupation_facts_HW5M_subset = pd.read_csv(os.path.join(BASE_PATH_HOST,'results/bias_measurement/link_prediction_bias/',                                                         'preds_df_occupation_HumanW5M_subset_testset_with_sensitive_attribute_info.tsv'), sep = '\\t')"
   ],
   "metadata": {
    "collapsed": false,
    "pycharm": {
     "name": "#%%\n"
    }
   }
  },
  {
   "cell_type": "markdown",
   "source": [
    "### Sensitive attribute: gender"
   ],
   "metadata": {
    "collapsed": false,
    "pycharm": {
     "name": "#%% md\n"
    }
   }
  },
  {
   "cell_type": "code",
   "execution_count": 4,
   "outputs": [
    {
     "data": {
      "text/plain": "-1          2743\nQ6581097     871\nQ6581072     149\nName: P21, dtype: int64"
     },
     "execution_count": 4,
     "metadata": {},
     "output_type": "execute_result"
    }
   ],
   "source": [
    "tail_value_counts_gender = occupation_facts_HW5M_subset['P21'].value_counts()\n",
    "tail_value_counts_gender"
   ],
   "metadata": {
    "collapsed": false,
    "pycharm": {
     "name": "#%%\n"
    }
   }
  },
  {
   "cell_type": "markdown",
   "source": [
    "How many facts exist per occupation class in the testset?"
   ],
   "metadata": {
    "collapsed": false,
    "pycharm": {
     "name": "#%% md\n"
    }
   }
  },
  {
   "cell_type": "code",
   "execution_count": 7,
   "outputs": [
    {
     "data": {
      "text/plain": "                       head_id  relation_id  relation_label  true_tail_id  true_tail_label   P21   P27  P172  P140\ntrue_tail_class_label                                                                                             \n0                         1534         1534            1534          1534             1534  1534  1534  1534  1534\n1                         1070         1070            1070          1070             1070  1070  1070  1070  1070\n2                          262          262             262           262              262   262   262   262   262\n3                          253          253             253           253              253   253   253   253   253\n4                          158          158             158           158              158   158   158   158   158\n5                          142          142             142           142              142   142   142   142   142\n6                          129          129             129           129              129   129   129   129   129\n7                          109          109             109           109              109   109   109   109   109\n8                          106          106             106           106              106   106   106   106   106",
      "text/html": "<div>\n<style scoped>\n    .dataframe tbody tr th:only-of-type {\n        vertical-align: middle;\n    }\n\n    .dataframe tbody tr th {\n        vertical-align: top;\n    }\n\n    .dataframe thead th {\n        text-align: right;\n    }\n</style>\n<table border=\"1\" class=\"dataframe\">\n  <thead>\n    <tr style=\"text-align: right;\">\n      <th></th>\n      <th>head_id</th>\n      <th>relation_id</th>\n      <th>relation_label</th>\n      <th>true_tail_id</th>\n      <th>true_tail_label</th>\n      <th>P21</th>\n      <th>P27</th>\n      <th>P172</th>\n      <th>P140</th>\n    </tr>\n    <tr>\n      <th>true_tail_class_label</th>\n      <th></th>\n      <th></th>\n      <th></th>\n      <th></th>\n      <th></th>\n      <th></th>\n      <th></th>\n      <th></th>\n      <th></th>\n    </tr>\n  </thead>\n  <tbody>\n    <tr>\n      <th>0</th>\n      <td>1534</td>\n      <td>1534</td>\n      <td>1534</td>\n      <td>1534</td>\n      <td>1534</td>\n      <td>1534</td>\n      <td>1534</td>\n      <td>1534</td>\n      <td>1534</td>\n    </tr>\n    <tr>\n      <th>1</th>\n      <td>1070</td>\n      <td>1070</td>\n      <td>1070</td>\n      <td>1070</td>\n      <td>1070</td>\n      <td>1070</td>\n      <td>1070</td>\n      <td>1070</td>\n      <td>1070</td>\n    </tr>\n    <tr>\n      <th>2</th>\n      <td>262</td>\n      <td>262</td>\n      <td>262</td>\n      <td>262</td>\n      <td>262</td>\n      <td>262</td>\n      <td>262</td>\n      <td>262</td>\n      <td>262</td>\n    </tr>\n    <tr>\n      <th>3</th>\n      <td>253</td>\n      <td>253</td>\n      <td>253</td>\n      <td>253</td>\n      <td>253</td>\n      <td>253</td>\n      <td>253</td>\n      <td>253</td>\n      <td>253</td>\n    </tr>\n    <tr>\n      <th>4</th>\n      <td>158</td>\n      <td>158</td>\n      <td>158</td>\n      <td>158</td>\n      <td>158</td>\n      <td>158</td>\n      <td>158</td>\n      <td>158</td>\n      <td>158</td>\n    </tr>\n    <tr>\n      <th>5</th>\n      <td>142</td>\n      <td>142</td>\n      <td>142</td>\n      <td>142</td>\n      <td>142</td>\n      <td>142</td>\n      <td>142</td>\n      <td>142</td>\n      <td>142</td>\n    </tr>\n    <tr>\n      <th>6</th>\n      <td>129</td>\n      <td>129</td>\n      <td>129</td>\n      <td>129</td>\n      <td>129</td>\n      <td>129</td>\n      <td>129</td>\n      <td>129</td>\n      <td>129</td>\n    </tr>\n    <tr>\n      <th>7</th>\n      <td>109</td>\n      <td>109</td>\n      <td>109</td>\n      <td>109</td>\n      <td>109</td>\n      <td>109</td>\n      <td>109</td>\n      <td>109</td>\n      <td>109</td>\n    </tr>\n    <tr>\n      <th>8</th>\n      <td>106</td>\n      <td>106</td>\n      <td>106</td>\n      <td>106</td>\n      <td>106</td>\n      <td>106</td>\n      <td>106</td>\n      <td>106</td>\n      <td>106</td>\n    </tr>\n  </tbody>\n</table>\n</div>"
     },
     "execution_count": 7,
     "metadata": {},
     "output_type": "execute_result"
    }
   ],
   "source": [
    "groupy_occupation_labels_all = occupation_facts_HW5M_subset.groupby('true_tail_class_label')\n",
    "groupy_occupation_labels_all.agg('count')"
   ],
   "metadata": {
    "collapsed": false,
    "pycharm": {
     "name": "#%%\n"
    }
   }
  },
  {
   "cell_type": "markdown",
   "source": [
    "How many of each of these have gender information, i.e. a value in column P21 that is not -1?"
   ],
   "metadata": {
    "collapsed": false,
    "pycharm": {
     "name": "#%% md\n"
    }
   }
  },
  {
   "cell_type": "code",
   "execution_count": 10,
   "outputs": [
    {
     "data": {
      "text/plain": "                       head_id  relation_id  relation_label  true_tail_id  true_tail_label  P21  P27  P172  P140\ntrue_tail_class_label                                                                                           \n0                          399          399             399           399              399  399  399   399   399\n1                          308          308             308           308              308  308  308   308   308\n2                           69           69              69            69               69   69   69    69    69\n3                           78           78              78            78               78   78   78    78    78\n4                           47           47              47            47               47   47   47    47    47\n5                           32           32              32            32               32   32   32    32    32\n6                           28           28              28            28               28   28   28    28    28\n7                           33           33              33            33               33   33   33    33    33\n8                           26           26              26            26               26   26   26    26    26",
      "text/html": "<div>\n<style scoped>\n    .dataframe tbody tr th:only-of-type {\n        vertical-align: middle;\n    }\n\n    .dataframe tbody tr th {\n        vertical-align: top;\n    }\n\n    .dataframe thead th {\n        text-align: right;\n    }\n</style>\n<table border=\"1\" class=\"dataframe\">\n  <thead>\n    <tr style=\"text-align: right;\">\n      <th></th>\n      <th>head_id</th>\n      <th>relation_id</th>\n      <th>relation_label</th>\n      <th>true_tail_id</th>\n      <th>true_tail_label</th>\n      <th>P21</th>\n      <th>P27</th>\n      <th>P172</th>\n      <th>P140</th>\n    </tr>\n    <tr>\n      <th>true_tail_class_label</th>\n      <th></th>\n      <th></th>\n      <th></th>\n      <th></th>\n      <th></th>\n      <th></th>\n      <th></th>\n      <th></th>\n      <th></th>\n    </tr>\n  </thead>\n  <tbody>\n    <tr>\n      <th>0</th>\n      <td>399</td>\n      <td>399</td>\n      <td>399</td>\n      <td>399</td>\n      <td>399</td>\n      <td>399</td>\n      <td>399</td>\n      <td>399</td>\n      <td>399</td>\n    </tr>\n    <tr>\n      <th>1</th>\n      <td>308</td>\n      <td>308</td>\n      <td>308</td>\n      <td>308</td>\n      <td>308</td>\n      <td>308</td>\n      <td>308</td>\n      <td>308</td>\n      <td>308</td>\n    </tr>\n    <tr>\n      <th>2</th>\n      <td>69</td>\n      <td>69</td>\n      <td>69</td>\n      <td>69</td>\n      <td>69</td>\n      <td>69</td>\n      <td>69</td>\n      <td>69</td>\n      <td>69</td>\n    </tr>\n    <tr>\n      <th>3</th>\n      <td>78</td>\n      <td>78</td>\n      <td>78</td>\n      <td>78</td>\n      <td>78</td>\n      <td>78</td>\n      <td>78</td>\n      <td>78</td>\n      <td>78</td>\n    </tr>\n    <tr>\n      <th>4</th>\n      <td>47</td>\n      <td>47</td>\n      <td>47</td>\n      <td>47</td>\n      <td>47</td>\n      <td>47</td>\n      <td>47</td>\n      <td>47</td>\n      <td>47</td>\n    </tr>\n    <tr>\n      <th>5</th>\n      <td>32</td>\n      <td>32</td>\n      <td>32</td>\n      <td>32</td>\n      <td>32</td>\n      <td>32</td>\n      <td>32</td>\n      <td>32</td>\n      <td>32</td>\n    </tr>\n    <tr>\n      <th>6</th>\n      <td>28</td>\n      <td>28</td>\n      <td>28</td>\n      <td>28</td>\n      <td>28</td>\n      <td>28</td>\n      <td>28</td>\n      <td>28</td>\n      <td>28</td>\n    </tr>\n    <tr>\n      <th>7</th>\n      <td>33</td>\n      <td>33</td>\n      <td>33</td>\n      <td>33</td>\n      <td>33</td>\n      <td>33</td>\n      <td>33</td>\n      <td>33</td>\n      <td>33</td>\n    </tr>\n    <tr>\n      <th>8</th>\n      <td>26</td>\n      <td>26</td>\n      <td>26</td>\n      <td>26</td>\n      <td>26</td>\n      <td>26</td>\n      <td>26</td>\n      <td>26</td>\n      <td>26</td>\n    </tr>\n  </tbody>\n</table>\n</div>"
     },
     "execution_count": 10,
     "metadata": {},
     "output_type": "execute_result"
    }
   ],
   "source": [
    "valid_gender_only = occupation_facts_HW5M_subset[occupation_facts_HW5M_subset['P21'] != '-1']\n",
    "groupy_occupation_labels_only_valid_gender = valid_gender_only.groupby('true_tail_class_label')\n",
    "groupy_occupation_labels_only_valid_gender.agg('count')"
   ],
   "metadata": {
    "collapsed": false,
    "pycharm": {
     "name": "#%%\n"
    }
   }
  },
  {
   "cell_type": "markdown",
   "source": [
    "Of these, how many have gender male? - Q6581097"
   ],
   "metadata": {
    "collapsed": false,
    "pycharm": {
     "name": "#%% md\n"
    }
   }
  },
  {
   "cell_type": "code",
   "execution_count": 12,
   "outputs": [
    {
     "data": {
      "text/plain": "                       head_id  relation_id  relation_label  true_tail_id  true_tail_label  P21  P27  P172  P140\ntrue_tail_class_label                                                                                           \n0                          336          336             336           336              336  336  336   336   336\n1                          274          274             274           274              274  274  274   274   274\n2                           58           58              58            58               58   58   58    58    58\n3                           72           72              72            72               72   72   72    72    72\n4                           34           34              34            34               34   34   34    34    34\n5                           31           31              31            31               31   31   31    31    31\n6                           21           21              21            21               21   21   21    21    21\n7                           19           19              19            19               19   19   19    19    19\n8                           26           26              26            26               26   26   26    26    26",
      "text/html": "<div>\n<style scoped>\n    .dataframe tbody tr th:only-of-type {\n        vertical-align: middle;\n    }\n\n    .dataframe tbody tr th {\n        vertical-align: top;\n    }\n\n    .dataframe thead th {\n        text-align: right;\n    }\n</style>\n<table border=\"1\" class=\"dataframe\">\n  <thead>\n    <tr style=\"text-align: right;\">\n      <th></th>\n      <th>head_id</th>\n      <th>relation_id</th>\n      <th>relation_label</th>\n      <th>true_tail_id</th>\n      <th>true_tail_label</th>\n      <th>P21</th>\n      <th>P27</th>\n      <th>P172</th>\n      <th>P140</th>\n    </tr>\n    <tr>\n      <th>true_tail_class_label</th>\n      <th></th>\n      <th></th>\n      <th></th>\n      <th></th>\n      <th></th>\n      <th></th>\n      <th></th>\n      <th></th>\n      <th></th>\n    </tr>\n  </thead>\n  <tbody>\n    <tr>\n      <th>0</th>\n      <td>336</td>\n      <td>336</td>\n      <td>336</td>\n      <td>336</td>\n      <td>336</td>\n      <td>336</td>\n      <td>336</td>\n      <td>336</td>\n      <td>336</td>\n    </tr>\n    <tr>\n      <th>1</th>\n      <td>274</td>\n      <td>274</td>\n      <td>274</td>\n      <td>274</td>\n      <td>274</td>\n      <td>274</td>\n      <td>274</td>\n      <td>274</td>\n      <td>274</td>\n    </tr>\n    <tr>\n      <th>2</th>\n      <td>58</td>\n      <td>58</td>\n      <td>58</td>\n      <td>58</td>\n      <td>58</td>\n      <td>58</td>\n      <td>58</td>\n      <td>58</td>\n      <td>58</td>\n    </tr>\n    <tr>\n      <th>3</th>\n      <td>72</td>\n      <td>72</td>\n      <td>72</td>\n      <td>72</td>\n      <td>72</td>\n      <td>72</td>\n      <td>72</td>\n      <td>72</td>\n      <td>72</td>\n    </tr>\n    <tr>\n      <th>4</th>\n      <td>34</td>\n      <td>34</td>\n      <td>34</td>\n      <td>34</td>\n      <td>34</td>\n      <td>34</td>\n      <td>34</td>\n      <td>34</td>\n      <td>34</td>\n    </tr>\n    <tr>\n      <th>5</th>\n      <td>31</td>\n      <td>31</td>\n      <td>31</td>\n      <td>31</td>\n      <td>31</td>\n      <td>31</td>\n      <td>31</td>\n      <td>31</td>\n      <td>31</td>\n    </tr>\n    <tr>\n      <th>6</th>\n      <td>21</td>\n      <td>21</td>\n      <td>21</td>\n      <td>21</td>\n      <td>21</td>\n      <td>21</td>\n      <td>21</td>\n      <td>21</td>\n      <td>21</td>\n    </tr>\n    <tr>\n      <th>7</th>\n      <td>19</td>\n      <td>19</td>\n      <td>19</td>\n      <td>19</td>\n      <td>19</td>\n      <td>19</td>\n      <td>19</td>\n      <td>19</td>\n      <td>19</td>\n    </tr>\n    <tr>\n      <th>8</th>\n      <td>26</td>\n      <td>26</td>\n      <td>26</td>\n      <td>26</td>\n      <td>26</td>\n      <td>26</td>\n      <td>26</td>\n      <td>26</td>\n      <td>26</td>\n    </tr>\n  </tbody>\n</table>\n</div>"
     },
     "execution_count": 12,
     "metadata": {},
     "output_type": "execute_result"
    }
   ],
   "source": [
    "male_gender_only = occupation_facts_HW5M_subset[occupation_facts_HW5M_subset['P21'] == 'Q6581097']\n",
    "groupy_occupation_labels_only_male_gender = male_gender_only.groupby('true_tail_class_label')\n",
    "groupy_occupation_labels_only_male_gender.agg('count')"
   ],
   "metadata": {
    "collapsed": false,
    "pycharm": {
     "name": "#%%\n"
    }
   }
  },
  {
   "cell_type": "markdown",
   "source": [
    "Of these, how many have gender female? - Q6581072\n"
   ],
   "metadata": {
    "collapsed": false,
    "pycharm": {
     "name": "#%% md\n"
    }
   }
  },
  {
   "cell_type": "code",
   "execution_count": 13,
   "outputs": [
    {
     "data": {
      "text/plain": "                       head_id  relation_id  relation_label  true_tail_id  true_tail_label  P21  P27  P172  P140\ntrue_tail_class_label                                                                                           \n0                           63           63              63            63               63   63   63    63    63\n1                           34           34              34            34               34   34   34    34    34\n2                           11           11              11            11               11   11   11    11    11\n3                            6            6               6             6                6    6    6     6     6\n4                           13           13              13            13               13   13   13    13    13\n5                            1            1               1             1                1    1    1     1     1\n6                            7            7               7             7                7    7    7     7     7\n7                           14           14              14            14               14   14   14    14    14",
      "text/html": "<div>\n<style scoped>\n    .dataframe tbody tr th:only-of-type {\n        vertical-align: middle;\n    }\n\n    .dataframe tbody tr th {\n        vertical-align: top;\n    }\n\n    .dataframe thead th {\n        text-align: right;\n    }\n</style>\n<table border=\"1\" class=\"dataframe\">\n  <thead>\n    <tr style=\"text-align: right;\">\n      <th></th>\n      <th>head_id</th>\n      <th>relation_id</th>\n      <th>relation_label</th>\n      <th>true_tail_id</th>\n      <th>true_tail_label</th>\n      <th>P21</th>\n      <th>P27</th>\n      <th>P172</th>\n      <th>P140</th>\n    </tr>\n    <tr>\n      <th>true_tail_class_label</th>\n      <th></th>\n      <th></th>\n      <th></th>\n      <th></th>\n      <th></th>\n      <th></th>\n      <th></th>\n      <th></th>\n      <th></th>\n    </tr>\n  </thead>\n  <tbody>\n    <tr>\n      <th>0</th>\n      <td>63</td>\n      <td>63</td>\n      <td>63</td>\n      <td>63</td>\n      <td>63</td>\n      <td>63</td>\n      <td>63</td>\n      <td>63</td>\n      <td>63</td>\n    </tr>\n    <tr>\n      <th>1</th>\n      <td>34</td>\n      <td>34</td>\n      <td>34</td>\n      <td>34</td>\n      <td>34</td>\n      <td>34</td>\n      <td>34</td>\n      <td>34</td>\n      <td>34</td>\n    </tr>\n    <tr>\n      <th>2</th>\n      <td>11</td>\n      <td>11</td>\n      <td>11</td>\n      <td>11</td>\n      <td>11</td>\n      <td>11</td>\n      <td>11</td>\n      <td>11</td>\n      <td>11</td>\n    </tr>\n    <tr>\n      <th>3</th>\n      <td>6</td>\n      <td>6</td>\n      <td>6</td>\n      <td>6</td>\n      <td>6</td>\n      <td>6</td>\n      <td>6</td>\n      <td>6</td>\n      <td>6</td>\n    </tr>\n    <tr>\n      <th>4</th>\n      <td>13</td>\n      <td>13</td>\n      <td>13</td>\n      <td>13</td>\n      <td>13</td>\n      <td>13</td>\n      <td>13</td>\n      <td>13</td>\n      <td>13</td>\n    </tr>\n    <tr>\n      <th>5</th>\n      <td>1</td>\n      <td>1</td>\n      <td>1</td>\n      <td>1</td>\n      <td>1</td>\n      <td>1</td>\n      <td>1</td>\n      <td>1</td>\n      <td>1</td>\n    </tr>\n    <tr>\n      <th>6</th>\n      <td>7</td>\n      <td>7</td>\n      <td>7</td>\n      <td>7</td>\n      <td>7</td>\n      <td>7</td>\n      <td>7</td>\n      <td>7</td>\n      <td>7</td>\n    </tr>\n    <tr>\n      <th>7</th>\n      <td>14</td>\n      <td>14</td>\n      <td>14</td>\n      <td>14</td>\n      <td>14</td>\n      <td>14</td>\n      <td>14</td>\n      <td>14</td>\n      <td>14</td>\n    </tr>\n  </tbody>\n</table>\n</div>"
     },
     "execution_count": 13,
     "metadata": {},
     "output_type": "execute_result"
    }
   ],
   "source": [
    "female_gender_only = occupation_facts_HW5M_subset[occupation_facts_HW5M_subset['P21'] == 'Q6581072']\n",
    "groupy_occupation_labels_only_female_gender = female_gender_only.groupby('true_tail_class_label')\n",
    "groupy_occupation_labels_only_female_gender.agg('count')"
   ],
   "metadata": {
    "collapsed": false,
    "pycharm": {
     "name": "#%%\n"
    }
   }
  },
  {
   "cell_type": "markdown",
   "source": [],
   "metadata": {
    "collapsed": false,
    "pycharm": {
     "name": "#%% md\n"
    }
   }
  },
  {
   "cell_type": "markdown",
   "source": [
    "### Sensitive attribute: country of citizenship"
   ],
   "metadata": {
    "collapsed": false,
    "pycharm": {
     "name": "#%% md\n"
    }
   }
  },
  {
   "cell_type": "code",
   "execution_count": 16,
   "outputs": [
    {
     "data": {
      "text/plain": "-1         2721\nQ30         357\nQ142         80\nQ145         74\nQ183         44\nQ16          41\nQ17          27\nQ668         22\nQ159         19\nQ15180       19\n           ... \nQ227          1\nQ844930       1\nQ971          1\nQ736          1\nQ217          1\nQ179876       1\nQ974          1\nQ211          1\nQ954          1\nQ42620        1\nName: P27, Length: 114, dtype: int64"
     },
     "execution_count": 16,
     "metadata": {},
     "output_type": "execute_result"
    }
   ],
   "source": [
    "tail_value_counts_citizenship = occupation_facts_HW5M_subset['P27'].value_counts()\n",
    "tail_value_counts_citizenship"
   ],
   "metadata": {
    "collapsed": false,
    "pycharm": {
     "name": "#%%\n"
    }
   }
  },
  {
   "cell_type": "markdown",
   "source": [
    "How many of each of these have gender information, i.e. a value in column P21 that is not -1?"
   ],
   "metadata": {
    "collapsed": false,
    "pycharm": {
     "name": "#%% md\n"
    }
   }
  },
  {
   "cell_type": "code",
   "execution_count": 19,
   "outputs": [
    {
     "data": {
      "text/plain": "                       head_id  relation_id  relation_label  true_tail_id  true_tail_label  P21  P27  P172  P140\ntrue_tail_class_label                                                                                           \n0                          437          437             437           437              437  437  437   437   437\n1                          278          278             278           278              278  278  278   278   278\n2                           68           68              68            68               68   68   68    68    68\n3                           76           76              76            76               76   76   76    76    76\n4                           44           44              44            44               44   44   44    44    44\n5                           34           34              34            34               34   34   34    34    34\n6                           38           38              38            38               38   38   38    38    38\n7                           29           29              29            29               29   29   29    29    29\n8                           38           38              38            38               38   38   38    38    38",
      "text/html": "<div>\n<style scoped>\n    .dataframe tbody tr th:only-of-type {\n        vertical-align: middle;\n    }\n\n    .dataframe tbody tr th {\n        vertical-align: top;\n    }\n\n    .dataframe thead th {\n        text-align: right;\n    }\n</style>\n<table border=\"1\" class=\"dataframe\">\n  <thead>\n    <tr style=\"text-align: right;\">\n      <th></th>\n      <th>head_id</th>\n      <th>relation_id</th>\n      <th>relation_label</th>\n      <th>true_tail_id</th>\n      <th>true_tail_label</th>\n      <th>P21</th>\n      <th>P27</th>\n      <th>P172</th>\n      <th>P140</th>\n    </tr>\n    <tr>\n      <th>true_tail_class_label</th>\n      <th></th>\n      <th></th>\n      <th></th>\n      <th></th>\n      <th></th>\n      <th></th>\n      <th></th>\n      <th></th>\n      <th></th>\n    </tr>\n  </thead>\n  <tbody>\n    <tr>\n      <th>0</th>\n      <td>437</td>\n      <td>437</td>\n      <td>437</td>\n      <td>437</td>\n      <td>437</td>\n      <td>437</td>\n      <td>437</td>\n      <td>437</td>\n      <td>437</td>\n    </tr>\n    <tr>\n      <th>1</th>\n      <td>278</td>\n      <td>278</td>\n      <td>278</td>\n      <td>278</td>\n      <td>278</td>\n      <td>278</td>\n      <td>278</td>\n      <td>278</td>\n      <td>278</td>\n    </tr>\n    <tr>\n      <th>2</th>\n      <td>68</td>\n      <td>68</td>\n      <td>68</td>\n      <td>68</td>\n      <td>68</td>\n      <td>68</td>\n      <td>68</td>\n      <td>68</td>\n      <td>68</td>\n    </tr>\n    <tr>\n      <th>3</th>\n      <td>76</td>\n      <td>76</td>\n      <td>76</td>\n      <td>76</td>\n      <td>76</td>\n      <td>76</td>\n      <td>76</td>\n      <td>76</td>\n      <td>76</td>\n    </tr>\n    <tr>\n      <th>4</th>\n      <td>44</td>\n      <td>44</td>\n      <td>44</td>\n      <td>44</td>\n      <td>44</td>\n      <td>44</td>\n      <td>44</td>\n      <td>44</td>\n      <td>44</td>\n    </tr>\n    <tr>\n      <th>5</th>\n      <td>34</td>\n      <td>34</td>\n      <td>34</td>\n      <td>34</td>\n      <td>34</td>\n      <td>34</td>\n      <td>34</td>\n      <td>34</td>\n      <td>34</td>\n    </tr>\n    <tr>\n      <th>6</th>\n      <td>38</td>\n      <td>38</td>\n      <td>38</td>\n      <td>38</td>\n      <td>38</td>\n      <td>38</td>\n      <td>38</td>\n      <td>38</td>\n      <td>38</td>\n    </tr>\n    <tr>\n      <th>7</th>\n      <td>29</td>\n      <td>29</td>\n      <td>29</td>\n      <td>29</td>\n      <td>29</td>\n      <td>29</td>\n      <td>29</td>\n      <td>29</td>\n      <td>29</td>\n    </tr>\n    <tr>\n      <th>8</th>\n      <td>38</td>\n      <td>38</td>\n      <td>38</td>\n      <td>38</td>\n      <td>38</td>\n      <td>38</td>\n      <td>38</td>\n      <td>38</td>\n      <td>38</td>\n    </tr>\n  </tbody>\n</table>\n</div>"
     },
     "execution_count": 19,
     "metadata": {},
     "output_type": "execute_result"
    }
   ],
   "source": [
    "valid_citizenship_only = occupation_facts_HW5M_subset[occupation_facts_HW5M_subset['P27'] != '-1']\n",
    "groupy_occupation_labels_only_valid_citizenship = valid_citizenship_only.groupby('true_tail_class_label')\n",
    "groupy_occupation_labels_only_valid_citizenship.agg('count')"
   ],
   "metadata": {
    "collapsed": false,
    "pycharm": {
     "name": "#%%\n"
    }
   }
  },
  {
   "cell_type": "markdown",
   "source": [
    "Of these, how many have citizenship in USA? - Q30"
   ],
   "metadata": {
    "collapsed": false,
    "pycharm": {
     "name": "#%% md\n"
    }
   }
  },
  {
   "cell_type": "code",
   "execution_count": 20,
   "outputs": [
    {
     "data": {
      "text/plain": "                       head_id  relation_id  relation_label  true_tail_id  true_tail_label  P21  P27  P172  P140\ntrue_tail_class_label                                                                                           \n0                          146          146             146           146              146  146  146   146   146\n1                          104          104             104           104              104  104  104   104   104\n2                            9            9               9             9                9    9    9     9     9\n3                           50           50              50            50               50   50   50    50    50\n4                           18           18              18            18               18   18   18    18    18\n5                            2            2               2             2                2    2    2     2     2\n6                            2            2               2             2                2    2    2     2     2\n7                           17           17              17            17               17   17   17    17    17\n8                            9            9               9             9                9    9    9     9     9",
      "text/html": "<div>\n<style scoped>\n    .dataframe tbody tr th:only-of-type {\n        vertical-align: middle;\n    }\n\n    .dataframe tbody tr th {\n        vertical-align: top;\n    }\n\n    .dataframe thead th {\n        text-align: right;\n    }\n</style>\n<table border=\"1\" class=\"dataframe\">\n  <thead>\n    <tr style=\"text-align: right;\">\n      <th></th>\n      <th>head_id</th>\n      <th>relation_id</th>\n      <th>relation_label</th>\n      <th>true_tail_id</th>\n      <th>true_tail_label</th>\n      <th>P21</th>\n      <th>P27</th>\n      <th>P172</th>\n      <th>P140</th>\n    </tr>\n    <tr>\n      <th>true_tail_class_label</th>\n      <th></th>\n      <th></th>\n      <th></th>\n      <th></th>\n      <th></th>\n      <th></th>\n      <th></th>\n      <th></th>\n      <th></th>\n    </tr>\n  </thead>\n  <tbody>\n    <tr>\n      <th>0</th>\n      <td>146</td>\n      <td>146</td>\n      <td>146</td>\n      <td>146</td>\n      <td>146</td>\n      <td>146</td>\n      <td>146</td>\n      <td>146</td>\n      <td>146</td>\n    </tr>\n    <tr>\n      <th>1</th>\n      <td>104</td>\n      <td>104</td>\n      <td>104</td>\n      <td>104</td>\n      <td>104</td>\n      <td>104</td>\n      <td>104</td>\n      <td>104</td>\n      <td>104</td>\n    </tr>\n    <tr>\n      <th>2</th>\n      <td>9</td>\n      <td>9</td>\n      <td>9</td>\n      <td>9</td>\n      <td>9</td>\n      <td>9</td>\n      <td>9</td>\n      <td>9</td>\n      <td>9</td>\n    </tr>\n    <tr>\n      <th>3</th>\n      <td>50</td>\n      <td>50</td>\n      <td>50</td>\n      <td>50</td>\n      <td>50</td>\n      <td>50</td>\n      <td>50</td>\n      <td>50</td>\n      <td>50</td>\n    </tr>\n    <tr>\n      <th>4</th>\n      <td>18</td>\n      <td>18</td>\n      <td>18</td>\n      <td>18</td>\n      <td>18</td>\n      <td>18</td>\n      <td>18</td>\n      <td>18</td>\n      <td>18</td>\n    </tr>\n    <tr>\n      <th>5</th>\n      <td>2</td>\n      <td>2</td>\n      <td>2</td>\n      <td>2</td>\n      <td>2</td>\n      <td>2</td>\n      <td>2</td>\n      <td>2</td>\n      <td>2</td>\n    </tr>\n    <tr>\n      <th>6</th>\n      <td>2</td>\n      <td>2</td>\n      <td>2</td>\n      <td>2</td>\n      <td>2</td>\n      <td>2</td>\n      <td>2</td>\n      <td>2</td>\n      <td>2</td>\n    </tr>\n    <tr>\n      <th>7</th>\n      <td>17</td>\n      <td>17</td>\n      <td>17</td>\n      <td>17</td>\n      <td>17</td>\n      <td>17</td>\n      <td>17</td>\n      <td>17</td>\n      <td>17</td>\n    </tr>\n    <tr>\n      <th>8</th>\n      <td>9</td>\n      <td>9</td>\n      <td>9</td>\n      <td>9</td>\n      <td>9</td>\n      <td>9</td>\n      <td>9</td>\n      <td>9</td>\n      <td>9</td>\n    </tr>\n  </tbody>\n</table>\n</div>"
     },
     "execution_count": 20,
     "metadata": {},
     "output_type": "execute_result"
    }
   ],
   "source": [
    "US_citizenship_only = occupation_facts_HW5M_subset[occupation_facts_HW5M_subset['P27'] == 'Q30']\n",
    "groupy_occupation_labels_US_citizenship_only = US_citizenship_only.groupby('true_tail_class_label')\n",
    "groupy_occupation_labels_US_citizenship_only.agg('count')"
   ],
   "metadata": {
    "collapsed": false,
    "pycharm": {
     "name": "#%%\n"
    }
   }
  },
  {
   "cell_type": "markdown",
   "source": [
    "Of these, how many have citizenship in France? - Q142"
   ],
   "metadata": {
    "collapsed": false,
    "pycharm": {
     "name": "#%% md\n"
    }
   }
  },
  {
   "cell_type": "code",
   "execution_count": 21,
   "outputs": [
    {
     "data": {
      "text/plain": "                       head_id  relation_id  relation_label  true_tail_id  true_tail_label  P21  P27  P172  P140\ntrue_tail_class_label                                                                                           \n0                           33           33              33            33               33   33   33    33    33\n1                           11           11              11            11               11   11   11    11    11\n2                           13           13              13            13               13   13   13    13    13\n3                            1            1               1             1                1    1    1     1     1\n4                            5            5               5             5                5    5    5     5     5\n5                            1            1               1             1                1    1    1     1     1\n6                            8            8               8             8                8    8    8     8     8\n7                            3            3               3             3                3    3    3     3     3\n8                            5            5               5             5                5    5    5     5     5",
      "text/html": "<div>\n<style scoped>\n    .dataframe tbody tr th:only-of-type {\n        vertical-align: middle;\n    }\n\n    .dataframe tbody tr th {\n        vertical-align: top;\n    }\n\n    .dataframe thead th {\n        text-align: right;\n    }\n</style>\n<table border=\"1\" class=\"dataframe\">\n  <thead>\n    <tr style=\"text-align: right;\">\n      <th></th>\n      <th>head_id</th>\n      <th>relation_id</th>\n      <th>relation_label</th>\n      <th>true_tail_id</th>\n      <th>true_tail_label</th>\n      <th>P21</th>\n      <th>P27</th>\n      <th>P172</th>\n      <th>P140</th>\n    </tr>\n    <tr>\n      <th>true_tail_class_label</th>\n      <th></th>\n      <th></th>\n      <th></th>\n      <th></th>\n      <th></th>\n      <th></th>\n      <th></th>\n      <th></th>\n      <th></th>\n    </tr>\n  </thead>\n  <tbody>\n    <tr>\n      <th>0</th>\n      <td>33</td>\n      <td>33</td>\n      <td>33</td>\n      <td>33</td>\n      <td>33</td>\n      <td>33</td>\n      <td>33</td>\n      <td>33</td>\n      <td>33</td>\n    </tr>\n    <tr>\n      <th>1</th>\n      <td>11</td>\n      <td>11</td>\n      <td>11</td>\n      <td>11</td>\n      <td>11</td>\n      <td>11</td>\n      <td>11</td>\n      <td>11</td>\n      <td>11</td>\n    </tr>\n    <tr>\n      <th>2</th>\n      <td>13</td>\n      <td>13</td>\n      <td>13</td>\n      <td>13</td>\n      <td>13</td>\n      <td>13</td>\n      <td>13</td>\n      <td>13</td>\n      <td>13</td>\n    </tr>\n    <tr>\n      <th>3</th>\n      <td>1</td>\n      <td>1</td>\n      <td>1</td>\n      <td>1</td>\n      <td>1</td>\n      <td>1</td>\n      <td>1</td>\n      <td>1</td>\n      <td>1</td>\n    </tr>\n    <tr>\n      <th>4</th>\n      <td>5</td>\n      <td>5</td>\n      <td>5</td>\n      <td>5</td>\n      <td>5</td>\n      <td>5</td>\n      <td>5</td>\n      <td>5</td>\n      <td>5</td>\n    </tr>\n    <tr>\n      <th>5</th>\n      <td>1</td>\n      <td>1</td>\n      <td>1</td>\n      <td>1</td>\n      <td>1</td>\n      <td>1</td>\n      <td>1</td>\n      <td>1</td>\n      <td>1</td>\n    </tr>\n    <tr>\n      <th>6</th>\n      <td>8</td>\n      <td>8</td>\n      <td>8</td>\n      <td>8</td>\n      <td>8</td>\n      <td>8</td>\n      <td>8</td>\n      <td>8</td>\n      <td>8</td>\n    </tr>\n    <tr>\n      <th>7</th>\n      <td>3</td>\n      <td>3</td>\n      <td>3</td>\n      <td>3</td>\n      <td>3</td>\n      <td>3</td>\n      <td>3</td>\n      <td>3</td>\n      <td>3</td>\n    </tr>\n    <tr>\n      <th>8</th>\n      <td>5</td>\n      <td>5</td>\n      <td>5</td>\n      <td>5</td>\n      <td>5</td>\n      <td>5</td>\n      <td>5</td>\n      <td>5</td>\n      <td>5</td>\n    </tr>\n  </tbody>\n</table>\n</div>"
     },
     "execution_count": 21,
     "metadata": {},
     "output_type": "execute_result"
    }
   ],
   "source": [
    "France_citizenship_only = occupation_facts_HW5M_subset[occupation_facts_HW5M_subset['P27'] == 'Q142']\n",
    "groupy_occupation_labels_France_citizenship_only = France_citizenship_only.groupby('true_tail_class_label')\n",
    "groupy_occupation_labels_France_citizenship_only.agg('count')"
   ],
   "metadata": {
    "collapsed": false,
    "pycharm": {
     "name": "#%%\n"
    }
   }
  },
  {
   "cell_type": "markdown",
   "source": [
    "Of these, how many have citizenship in United Kingdom? - Q145"
   ],
   "metadata": {
    "collapsed": false,
    "pycharm": {
     "name": "#%% md\n"
    }
   }
  },
  {
   "cell_type": "code",
   "execution_count": 23,
   "outputs": [
    {
     "data": {
      "text/plain": "                       head_id  relation_id  relation_label  true_tail_id  true_tail_label  P21  P27  P172  P140\ntrue_tail_class_label                                                                                           \n0                           41           41              41            41               41   41   41    41    41\n1                            9            9               9             9                9    9    9     9     9\n2                            4            4               4             4                4    4    4     4     4\n3                            1            1               1             1                1    1    1     1     1\n4                            2            2               2             2                2    2    2     2     2\n5                           10           10              10            10               10   10   10    10    10\n6                            2            2               2             2                2    2    2     2     2\n7                            3            3               3             3                3    3    3     3     3\n8                            2            2               2             2                2    2    2     2     2",
      "text/html": "<div>\n<style scoped>\n    .dataframe tbody tr th:only-of-type {\n        vertical-align: middle;\n    }\n\n    .dataframe tbody tr th {\n        vertical-align: top;\n    }\n\n    .dataframe thead th {\n        text-align: right;\n    }\n</style>\n<table border=\"1\" class=\"dataframe\">\n  <thead>\n    <tr style=\"text-align: right;\">\n      <th></th>\n      <th>head_id</th>\n      <th>relation_id</th>\n      <th>relation_label</th>\n      <th>true_tail_id</th>\n      <th>true_tail_label</th>\n      <th>P21</th>\n      <th>P27</th>\n      <th>P172</th>\n      <th>P140</th>\n    </tr>\n    <tr>\n      <th>true_tail_class_label</th>\n      <th></th>\n      <th></th>\n      <th></th>\n      <th></th>\n      <th></th>\n      <th></th>\n      <th></th>\n      <th></th>\n      <th></th>\n    </tr>\n  </thead>\n  <tbody>\n    <tr>\n      <th>0</th>\n      <td>41</td>\n      <td>41</td>\n      <td>41</td>\n      <td>41</td>\n      <td>41</td>\n      <td>41</td>\n      <td>41</td>\n      <td>41</td>\n      <td>41</td>\n    </tr>\n    <tr>\n      <th>1</th>\n      <td>9</td>\n      <td>9</td>\n      <td>9</td>\n      <td>9</td>\n      <td>9</td>\n      <td>9</td>\n      <td>9</td>\n      <td>9</td>\n      <td>9</td>\n    </tr>\n    <tr>\n      <th>2</th>\n      <td>4</td>\n      <td>4</td>\n      <td>4</td>\n      <td>4</td>\n      <td>4</td>\n      <td>4</td>\n      <td>4</td>\n      <td>4</td>\n      <td>4</td>\n    </tr>\n    <tr>\n      <th>3</th>\n      <td>1</td>\n      <td>1</td>\n      <td>1</td>\n      <td>1</td>\n      <td>1</td>\n      <td>1</td>\n      <td>1</td>\n      <td>1</td>\n      <td>1</td>\n    </tr>\n    <tr>\n      <th>4</th>\n      <td>2</td>\n      <td>2</td>\n      <td>2</td>\n      <td>2</td>\n      <td>2</td>\n      <td>2</td>\n      <td>2</td>\n      <td>2</td>\n      <td>2</td>\n    </tr>\n    <tr>\n      <th>5</th>\n      <td>10</td>\n      <td>10</td>\n      <td>10</td>\n      <td>10</td>\n      <td>10</td>\n      <td>10</td>\n      <td>10</td>\n      <td>10</td>\n      <td>10</td>\n    </tr>\n    <tr>\n      <th>6</th>\n      <td>2</td>\n      <td>2</td>\n      <td>2</td>\n      <td>2</td>\n      <td>2</td>\n      <td>2</td>\n      <td>2</td>\n      <td>2</td>\n      <td>2</td>\n    </tr>\n    <tr>\n      <th>7</th>\n      <td>3</td>\n      <td>3</td>\n      <td>3</td>\n      <td>3</td>\n      <td>3</td>\n      <td>3</td>\n      <td>3</td>\n      <td>3</td>\n      <td>3</td>\n    </tr>\n    <tr>\n      <th>8</th>\n      <td>2</td>\n      <td>2</td>\n      <td>2</td>\n      <td>2</td>\n      <td>2</td>\n      <td>2</td>\n      <td>2</td>\n      <td>2</td>\n      <td>2</td>\n    </tr>\n  </tbody>\n</table>\n</div>"
     },
     "execution_count": 23,
     "metadata": {},
     "output_type": "execute_result"
    }
   ],
   "source": [
    "UK_citizenship_only = occupation_facts_HW5M_subset[occupation_facts_HW5M_subset['P27'] == 'Q145']\n",
    "groupy_occupation_labels_UK_citizenship_only = UK_citizenship_only.groupby('true_tail_class_label')\n",
    "groupy_occupation_labels_UK_citizenship_only.agg('count')"
   ],
   "metadata": {
    "collapsed": false,
    "pycharm": {
     "name": "#%%\n"
    }
   }
  },
  {
   "cell_type": "markdown",
   "source": [
    "Of these, how many have citizenship in Germany? - Q183"
   ],
   "metadata": {
    "collapsed": false,
    "pycharm": {
     "name": "#%% md\n"
    }
   }
  },
  {
   "cell_type": "code",
   "execution_count": 24,
   "outputs": [
    {
     "data": {
      "text/plain": "                       head_id  relation_id  relation_label  true_tail_id  true_tail_label  P21  P27  P172  P140\ntrue_tail_class_label                                                                                           \n0                           19           19              19            19               19   19   19    19    19\n1                           12           12              12            12               12   12   12    12    12\n2                            4            4               4             4                4    4    4     4     4\n3                            2            2               2             2                2    2    2     2     2\n4                            4            4               4             4                4    4    4     4     4\n5                            1            1               1             1                1    1    1     1     1\n8                            2            2               2             2                2    2    2     2     2",
      "text/html": "<div>\n<style scoped>\n    .dataframe tbody tr th:only-of-type {\n        vertical-align: middle;\n    }\n\n    .dataframe tbody tr th {\n        vertical-align: top;\n    }\n\n    .dataframe thead th {\n        text-align: right;\n    }\n</style>\n<table border=\"1\" class=\"dataframe\">\n  <thead>\n    <tr style=\"text-align: right;\">\n      <th></th>\n      <th>head_id</th>\n      <th>relation_id</th>\n      <th>relation_label</th>\n      <th>true_tail_id</th>\n      <th>true_tail_label</th>\n      <th>P21</th>\n      <th>P27</th>\n      <th>P172</th>\n      <th>P140</th>\n    </tr>\n    <tr>\n      <th>true_tail_class_label</th>\n      <th></th>\n      <th></th>\n      <th></th>\n      <th></th>\n      <th></th>\n      <th></th>\n      <th></th>\n      <th></th>\n      <th></th>\n    </tr>\n  </thead>\n  <tbody>\n    <tr>\n      <th>0</th>\n      <td>19</td>\n      <td>19</td>\n      <td>19</td>\n      <td>19</td>\n      <td>19</td>\n      <td>19</td>\n      <td>19</td>\n      <td>19</td>\n      <td>19</td>\n    </tr>\n    <tr>\n      <th>1</th>\n      <td>12</td>\n      <td>12</td>\n      <td>12</td>\n      <td>12</td>\n      <td>12</td>\n      <td>12</td>\n      <td>12</td>\n      <td>12</td>\n      <td>12</td>\n    </tr>\n    <tr>\n      <th>2</th>\n      <td>4</td>\n      <td>4</td>\n      <td>4</td>\n      <td>4</td>\n      <td>4</td>\n      <td>4</td>\n      <td>4</td>\n      <td>4</td>\n      <td>4</td>\n    </tr>\n    <tr>\n      <th>3</th>\n      <td>2</td>\n      <td>2</td>\n      <td>2</td>\n      <td>2</td>\n      <td>2</td>\n      <td>2</td>\n      <td>2</td>\n      <td>2</td>\n      <td>2</td>\n    </tr>\n    <tr>\n      <th>4</th>\n      <td>4</td>\n      <td>4</td>\n      <td>4</td>\n      <td>4</td>\n      <td>4</td>\n      <td>4</td>\n      <td>4</td>\n      <td>4</td>\n      <td>4</td>\n    </tr>\n    <tr>\n      <th>5</th>\n      <td>1</td>\n      <td>1</td>\n      <td>1</td>\n      <td>1</td>\n      <td>1</td>\n      <td>1</td>\n      <td>1</td>\n      <td>1</td>\n      <td>1</td>\n    </tr>\n    <tr>\n      <th>8</th>\n      <td>2</td>\n      <td>2</td>\n      <td>2</td>\n      <td>2</td>\n      <td>2</td>\n      <td>2</td>\n      <td>2</td>\n      <td>2</td>\n      <td>2</td>\n    </tr>\n  </tbody>\n</table>\n</div>"
     },
     "execution_count": 24,
     "metadata": {},
     "output_type": "execute_result"
    }
   ],
   "source": [
    "Germany_citizenship_only = occupation_facts_HW5M_subset[occupation_facts_HW5M_subset['P27'] == 'Q183']\n",
    "groupy_occupation_labels_Germany_citizenship_only = Germany_citizenship_only.groupby('true_tail_class_label')\n",
    "groupy_occupation_labels_Germany_citizenship_only.agg('count')"
   ],
   "metadata": {
    "collapsed": false,
    "pycharm": {
     "name": "#%%\n"
    }
   }
  },
  {
   "cell_type": "markdown",
   "source": [
    "# Make the same analysis for FB15k-237\n",
    "\n"
   ],
   "metadata": {
    "collapsed": false,
    "pycharm": {
     "name": "#%% md\n"
    }
   }
  },
  {
   "cell_type": "markdown",
   "source": [
    "## Target relation: occupation"
   ],
   "metadata": {
    "collapsed": false,
    "pycharm": {
     "name": "#%% md\n"
    }
   }
  },
  {
   "cell_type": "markdown",
   "source": [],
   "metadata": {
    "collapsed": false,
    "pycharm": {
     "name": "#%% md\n"
    }
   }
  },
  {
   "cell_type": "code",
   "execution_count": 34,
   "outputs": [
    {
     "data": {
      "text/plain": "         head_id                relation_id relation_label true_tail_id         true_tail_label  true_tail_class_label /people/person/gender\n0       /m/02ghq  /people/person/profession     profession    /m/01d_h8        Film Producer-GB                      3             /m/05zppz\n1     /m/01wkmgb  /people/person/profession     profession     /m/09jwl             Musician-GB                      5             /m/05zppz\n2       /m/0mm1q  /people/person/profession     profession    /m/01d_h8        Film Producer-GB                      3             /m/05zppz\n3       /m/03j90  /people/person/profession     profession     /m/05z96                    Poet                      0             /m/05zppz\n4     /m/02vwckw  /people/person/profession     profession      /m/0n1h               Artist-GB                      0             /m/05zppz\n5     /m/01w58n3  /people/person/profession     profession    /m/016z4k    Singer-songwriter-GB                      0              /m/02zsn\n6      /m/01n8gr  /people/person/profession     profession     /m/0lgw7            Photographer                      0             /m/05zppz\n7      /m/0b7xl8  /people/person/profession     profession    /m/05sxg2     Theatrical producer                      0             /m/05zppz\n8      /m/01309x  /people/person/profession     profession   /m/02hrh1q                Actor-GB                      1             /m/05zppz\n9      /m/01trf3  /people/person/profession     profession     /m/0np9r             Voice Actor                      0             /m/05zppz\n...          ...                        ...            ...          ...                     ...                    ...                   ...\n1301    /m/0pz91  /people/person/profession     profession    /m/01d_h8        Film Producer-GB                      3             /m/05zppz\n1302   /m/0b7gxq  /people/person/profession     profession     /m/0cbd2               Writer-GB                      7             /m/05zppz\n1303   /m/06z4wj  /people/person/profession     profession     /m/0dxtg            Screenwriter                      2             /m/05zppz\n1304   /m/09d5d5  /people/person/profession     profession    /m/01d_h8        Film Producer-GB                      3             /m/05zppz\n1305   /m/01t6b4  /people/person/profession     profession    /m/03gjzk  Television producer-GB                      6             /m/05zppz\n1306  /m/025vw4t  /people/person/profession     profession    /m/02krf9     Television Director                      0             /m/05zppz\n1307   /m/059j1m  /people/person/profession     profession    /m/018gz8                Comedian                      0             /m/05zppz\n1308   /m/016sp_  /people/person/profession     profession    /m/016z4k    Singer-songwriter-GB                      0             /m/05zppz\n1309   /m/016tb7  /people/person/profession     profession    /m/03gjzk  Television producer-GB                      6              /m/02zsn\n1310    /m/0l5yl  /people/person/profession     profession   /m/02hrh1q                Actor-GB                      1             /m/05zppz\n\n[1311 rows x 7 columns]",
      "text/html": "<div>\n<style scoped>\n    .dataframe tbody tr th:only-of-type {\n        vertical-align: middle;\n    }\n\n    .dataframe tbody tr th {\n        vertical-align: top;\n    }\n\n    .dataframe thead th {\n        text-align: right;\n    }\n</style>\n<table border=\"1\" class=\"dataframe\">\n  <thead>\n    <tr style=\"text-align: right;\">\n      <th></th>\n      <th>head_id</th>\n      <th>relation_id</th>\n      <th>relation_label</th>\n      <th>true_tail_id</th>\n      <th>true_tail_label</th>\n      <th>true_tail_class_label</th>\n      <th>/people/person/gender</th>\n    </tr>\n  </thead>\n  <tbody>\n    <tr>\n      <th>0</th>\n      <td>/m/02ghq</td>\n      <td>/people/person/profession</td>\n      <td>profession</td>\n      <td>/m/01d_h8</td>\n      <td>Film Producer-GB</td>\n      <td>3</td>\n      <td>/m/05zppz</td>\n    </tr>\n    <tr>\n      <th>1</th>\n      <td>/m/01wkmgb</td>\n      <td>/people/person/profession</td>\n      <td>profession</td>\n      <td>/m/09jwl</td>\n      <td>Musician-GB</td>\n      <td>5</td>\n      <td>/m/05zppz</td>\n    </tr>\n    <tr>\n      <th>2</th>\n      <td>/m/0mm1q</td>\n      <td>/people/person/profession</td>\n      <td>profession</td>\n      <td>/m/01d_h8</td>\n      <td>Film Producer-GB</td>\n      <td>3</td>\n      <td>/m/05zppz</td>\n    </tr>\n    <tr>\n      <th>3</th>\n      <td>/m/03j90</td>\n      <td>/people/person/profession</td>\n      <td>profession</td>\n      <td>/m/05z96</td>\n      <td>Poet</td>\n      <td>0</td>\n      <td>/m/05zppz</td>\n    </tr>\n    <tr>\n      <th>4</th>\n      <td>/m/02vwckw</td>\n      <td>/people/person/profession</td>\n      <td>profession</td>\n      <td>/m/0n1h</td>\n      <td>Artist-GB</td>\n      <td>0</td>\n      <td>/m/05zppz</td>\n    </tr>\n    <tr>\n      <th>5</th>\n      <td>/m/01w58n3</td>\n      <td>/people/person/profession</td>\n      <td>profession</td>\n      <td>/m/016z4k</td>\n      <td>Singer-songwriter-GB</td>\n      <td>0</td>\n      <td>/m/02zsn</td>\n    </tr>\n    <tr>\n      <th>6</th>\n      <td>/m/01n8gr</td>\n      <td>/people/person/profession</td>\n      <td>profession</td>\n      <td>/m/0lgw7</td>\n      <td>Photographer</td>\n      <td>0</td>\n      <td>/m/05zppz</td>\n    </tr>\n    <tr>\n      <th>7</th>\n      <td>/m/0b7xl8</td>\n      <td>/people/person/profession</td>\n      <td>profession</td>\n      <td>/m/05sxg2</td>\n      <td>Theatrical producer</td>\n      <td>0</td>\n      <td>/m/05zppz</td>\n    </tr>\n    <tr>\n      <th>8</th>\n      <td>/m/01309x</td>\n      <td>/people/person/profession</td>\n      <td>profession</td>\n      <td>/m/02hrh1q</td>\n      <td>Actor-GB</td>\n      <td>1</td>\n      <td>/m/05zppz</td>\n    </tr>\n    <tr>\n      <th>9</th>\n      <td>/m/01trf3</td>\n      <td>/people/person/profession</td>\n      <td>profession</td>\n      <td>/m/0np9r</td>\n      <td>Voice Actor</td>\n      <td>0</td>\n      <td>/m/05zppz</td>\n    </tr>\n    <tr>\n      <th>...</th>\n      <td>...</td>\n      <td>...</td>\n      <td>...</td>\n      <td>...</td>\n      <td>...</td>\n      <td>...</td>\n      <td>...</td>\n    </tr>\n    <tr>\n      <th>1301</th>\n      <td>/m/0pz91</td>\n      <td>/people/person/profession</td>\n      <td>profession</td>\n      <td>/m/01d_h8</td>\n      <td>Film Producer-GB</td>\n      <td>3</td>\n      <td>/m/05zppz</td>\n    </tr>\n    <tr>\n      <th>1302</th>\n      <td>/m/0b7gxq</td>\n      <td>/people/person/profession</td>\n      <td>profession</td>\n      <td>/m/0cbd2</td>\n      <td>Writer-GB</td>\n      <td>7</td>\n      <td>/m/05zppz</td>\n    </tr>\n    <tr>\n      <th>1303</th>\n      <td>/m/06z4wj</td>\n      <td>/people/person/profession</td>\n      <td>profession</td>\n      <td>/m/0dxtg</td>\n      <td>Screenwriter</td>\n      <td>2</td>\n      <td>/m/05zppz</td>\n    </tr>\n    <tr>\n      <th>1304</th>\n      <td>/m/09d5d5</td>\n      <td>/people/person/profession</td>\n      <td>profession</td>\n      <td>/m/01d_h8</td>\n      <td>Film Producer-GB</td>\n      <td>3</td>\n      <td>/m/05zppz</td>\n    </tr>\n    <tr>\n      <th>1305</th>\n      <td>/m/01t6b4</td>\n      <td>/people/person/profession</td>\n      <td>profession</td>\n      <td>/m/03gjzk</td>\n      <td>Television producer-GB</td>\n      <td>6</td>\n      <td>/m/05zppz</td>\n    </tr>\n    <tr>\n      <th>1306</th>\n      <td>/m/025vw4t</td>\n      <td>/people/person/profession</td>\n      <td>profession</td>\n      <td>/m/02krf9</td>\n      <td>Television Director</td>\n      <td>0</td>\n      <td>/m/05zppz</td>\n    </tr>\n    <tr>\n      <th>1307</th>\n      <td>/m/059j1m</td>\n      <td>/people/person/profession</td>\n      <td>profession</td>\n      <td>/m/018gz8</td>\n      <td>Comedian</td>\n      <td>0</td>\n      <td>/m/05zppz</td>\n    </tr>\n    <tr>\n      <th>1308</th>\n      <td>/m/016sp_</td>\n      <td>/people/person/profession</td>\n      <td>profession</td>\n      <td>/m/016z4k</td>\n      <td>Singer-songwriter-GB</td>\n      <td>0</td>\n      <td>/m/05zppz</td>\n    </tr>\n    <tr>\n      <th>1309</th>\n      <td>/m/016tb7</td>\n      <td>/people/person/profession</td>\n      <td>profession</td>\n      <td>/m/03gjzk</td>\n      <td>Television producer-GB</td>\n      <td>6</td>\n      <td>/m/02zsn</td>\n    </tr>\n    <tr>\n      <th>1310</th>\n      <td>/m/0l5yl</td>\n      <td>/people/person/profession</td>\n      <td>profession</td>\n      <td>/m/02hrh1q</td>\n      <td>Actor-GB</td>\n      <td>1</td>\n      <td>/m/05zppz</td>\n    </tr>\n  </tbody>\n</table>\n<p>1311 rows × 7 columns</p>\n</div>"
     },
     "execution_count": 34,
     "metadata": {},
     "output_type": "execute_result"
    }
   ],
   "source": [
    "occupation_facts_FB15k237 = pd.read_csv(os.path.join(BASE_PATH_HOST,'results/bias_measurement/link_prediction_bias/',                                                         'preds_df_occupation_FB15k-237_testset_with_sensitive_attribute_info.tsv'), sep = '\\t')\n",
    "occupation_facts_FB15k237"
   ],
   "metadata": {
    "collapsed": false,
    "pycharm": {
     "name": "#%%\n"
    }
   }
  },
  {
   "cell_type": "code",
   "execution_count": 35,
   "outputs": [
    {
     "data": {
      "text/plain": "/m/05zppz    1108\n/m/02zsn      203\nName: /people/person/gender, dtype: int64"
     },
     "execution_count": 35,
     "metadata": {},
     "output_type": "execute_result"
    }
   ],
   "source": [
    "tail_value_counts_gender = occupation_facts_FB15k237['/people/person/gender'].value_counts()\n",
    "tail_value_counts_gender"
   ],
   "metadata": {
    "collapsed": false,
    "pycharm": {
     "name": "#%%\n"
    }
   }
  },
  {
   "cell_type": "code",
   "execution_count": 36,
   "outputs": [
    {
     "data": {
      "text/plain": "                       head_id  relation_id  relation_label  true_tail_id  true_tail_label  /people/person/gender\ntrue_tail_class_label                                                                                            \n0                          511          511             511           511              511                    511\n1                          261          261             261           261              261                    261\n2                          116          116             116           116              116                    116\n3                          111          111             111           111              111                    111\n4                           79           79              79            79               79                     79\n5                           71           71              71            71               71                     71\n6                           61           61              61            61               61                     61\n7                           51           51              51            51               51                     51\n8                           50           50              50            50               50                     50",
      "text/html": "<div>\n<style scoped>\n    .dataframe tbody tr th:only-of-type {\n        vertical-align: middle;\n    }\n\n    .dataframe tbody tr th {\n        vertical-align: top;\n    }\n\n    .dataframe thead th {\n        text-align: right;\n    }\n</style>\n<table border=\"1\" class=\"dataframe\">\n  <thead>\n    <tr style=\"text-align: right;\">\n      <th></th>\n      <th>head_id</th>\n      <th>relation_id</th>\n      <th>relation_label</th>\n      <th>true_tail_id</th>\n      <th>true_tail_label</th>\n      <th>/people/person/gender</th>\n    </tr>\n    <tr>\n      <th>true_tail_class_label</th>\n      <th></th>\n      <th></th>\n      <th></th>\n      <th></th>\n      <th></th>\n      <th></th>\n    </tr>\n  </thead>\n  <tbody>\n    <tr>\n      <th>0</th>\n      <td>511</td>\n      <td>511</td>\n      <td>511</td>\n      <td>511</td>\n      <td>511</td>\n      <td>511</td>\n    </tr>\n    <tr>\n      <th>1</th>\n      <td>261</td>\n      <td>261</td>\n      <td>261</td>\n      <td>261</td>\n      <td>261</td>\n      <td>261</td>\n    </tr>\n    <tr>\n      <th>2</th>\n      <td>116</td>\n      <td>116</td>\n      <td>116</td>\n      <td>116</td>\n      <td>116</td>\n      <td>116</td>\n    </tr>\n    <tr>\n      <th>3</th>\n      <td>111</td>\n      <td>111</td>\n      <td>111</td>\n      <td>111</td>\n      <td>111</td>\n      <td>111</td>\n    </tr>\n    <tr>\n      <th>4</th>\n      <td>79</td>\n      <td>79</td>\n      <td>79</td>\n      <td>79</td>\n      <td>79</td>\n      <td>79</td>\n    </tr>\n    <tr>\n      <th>5</th>\n      <td>71</td>\n      <td>71</td>\n      <td>71</td>\n      <td>71</td>\n      <td>71</td>\n      <td>71</td>\n    </tr>\n    <tr>\n      <th>6</th>\n      <td>61</td>\n      <td>61</td>\n      <td>61</td>\n      <td>61</td>\n      <td>61</td>\n      <td>61</td>\n    </tr>\n    <tr>\n      <th>7</th>\n      <td>51</td>\n      <td>51</td>\n      <td>51</td>\n      <td>51</td>\n      <td>51</td>\n      <td>51</td>\n    </tr>\n    <tr>\n      <th>8</th>\n      <td>50</td>\n      <td>50</td>\n      <td>50</td>\n      <td>50</td>\n      <td>50</td>\n      <td>50</td>\n    </tr>\n  </tbody>\n</table>\n</div>"
     },
     "execution_count": 36,
     "metadata": {},
     "output_type": "execute_result"
    }
   ],
   "source": [
    "groupy_occupation_labels_all = occupation_facts_FB15k237.groupby('true_tail_class_label')\n",
    "groupy_occupation_labels_all.agg('count')"
   ],
   "metadata": {
    "collapsed": false,
    "pycharm": {
     "name": "#%%\n"
    }
   }
  },
  {
   "cell_type": "code",
   "execution_count": 38,
   "outputs": [
    {
     "data": {
      "text/plain": "                       head_id  relation_id  relation_label  true_tail_id  true_tail_label  /people/person/gender\ntrue_tail_class_label                                                                                            \n0                          511          511             511           511              511                    511\n1                          261          261             261           261              261                    261\n2                          116          116             116           116              116                    116\n3                          111          111             111           111              111                    111\n4                           79           79              79            79               79                     79\n5                           71           71              71            71               71                     71\n6                           61           61              61            61               61                     61\n7                           51           51              51            51               51                     51\n8                           50           50              50            50               50                     50",
      "text/html": "<div>\n<style scoped>\n    .dataframe tbody tr th:only-of-type {\n        vertical-align: middle;\n    }\n\n    .dataframe tbody tr th {\n        vertical-align: top;\n    }\n\n    .dataframe thead th {\n        text-align: right;\n    }\n</style>\n<table border=\"1\" class=\"dataframe\">\n  <thead>\n    <tr style=\"text-align: right;\">\n      <th></th>\n      <th>head_id</th>\n      <th>relation_id</th>\n      <th>relation_label</th>\n      <th>true_tail_id</th>\n      <th>true_tail_label</th>\n      <th>/people/person/gender</th>\n    </tr>\n    <tr>\n      <th>true_tail_class_label</th>\n      <th></th>\n      <th></th>\n      <th></th>\n      <th></th>\n      <th></th>\n      <th></th>\n    </tr>\n  </thead>\n  <tbody>\n    <tr>\n      <th>0</th>\n      <td>511</td>\n      <td>511</td>\n      <td>511</td>\n      <td>511</td>\n      <td>511</td>\n      <td>511</td>\n    </tr>\n    <tr>\n      <th>1</th>\n      <td>261</td>\n      <td>261</td>\n      <td>261</td>\n      <td>261</td>\n      <td>261</td>\n      <td>261</td>\n    </tr>\n    <tr>\n      <th>2</th>\n      <td>116</td>\n      <td>116</td>\n      <td>116</td>\n      <td>116</td>\n      <td>116</td>\n      <td>116</td>\n    </tr>\n    <tr>\n      <th>3</th>\n      <td>111</td>\n      <td>111</td>\n      <td>111</td>\n      <td>111</td>\n      <td>111</td>\n      <td>111</td>\n    </tr>\n    <tr>\n      <th>4</th>\n      <td>79</td>\n      <td>79</td>\n      <td>79</td>\n      <td>79</td>\n      <td>79</td>\n      <td>79</td>\n    </tr>\n    <tr>\n      <th>5</th>\n      <td>71</td>\n      <td>71</td>\n      <td>71</td>\n      <td>71</td>\n      <td>71</td>\n      <td>71</td>\n    </tr>\n    <tr>\n      <th>6</th>\n      <td>61</td>\n      <td>61</td>\n      <td>61</td>\n      <td>61</td>\n      <td>61</td>\n      <td>61</td>\n    </tr>\n    <tr>\n      <th>7</th>\n      <td>51</td>\n      <td>51</td>\n      <td>51</td>\n      <td>51</td>\n      <td>51</td>\n      <td>51</td>\n    </tr>\n    <tr>\n      <th>8</th>\n      <td>50</td>\n      <td>50</td>\n      <td>50</td>\n      <td>50</td>\n      <td>50</td>\n      <td>50</td>\n    </tr>\n  </tbody>\n</table>\n</div>"
     },
     "execution_count": 38,
     "metadata": {},
     "output_type": "execute_result"
    }
   ],
   "source": [
    "valid_gender_only = occupation_facts_FB15k237[occupation_facts_FB15k237['/people/person/gender'] != '-1']\n",
    "groupy_occupation_labels_only_valid_gender = valid_gender_only.groupby('true_tail_class_label')\n",
    "groupy_occupation_labels_only_valid_gender.agg('count')"
   ],
   "metadata": {
    "collapsed": false,
    "pycharm": {
     "name": "#%%\n"
    }
   }
  },
  {
   "cell_type": "markdown",
   "source": [
    "Of the gender facts, what is the per class count for male facts? - m/05zppz"
   ],
   "metadata": {
    "collapsed": false,
    "pycharm": {
     "name": "#%% md\n"
    }
   }
  },
  {
   "cell_type": "code",
   "execution_count": 39,
   "outputs": [
    {
     "data": {
      "text/plain": "                       head_id  relation_id  relation_label  true_tail_id  true_tail_label  /people/person/gender\ntrue_tail_class_label                                                                                            \n0                          429          429             429           429              429                    429\n1                          202          202             202           202              202                    202\n2                          104          104             104           104              104                    104\n3                          104          104             104           104              104                    104\n4                           76           76              76            76               76                     76\n5                           61           61              61            61               61                     61\n6                           50           50              50            50               50                     50\n7                           42           42              42            42               42                     42\n8                           40           40              40            40               40                     40",
      "text/html": "<div>\n<style scoped>\n    .dataframe tbody tr th:only-of-type {\n        vertical-align: middle;\n    }\n\n    .dataframe tbody tr th {\n        vertical-align: top;\n    }\n\n    .dataframe thead th {\n        text-align: right;\n    }\n</style>\n<table border=\"1\" class=\"dataframe\">\n  <thead>\n    <tr style=\"text-align: right;\">\n      <th></th>\n      <th>head_id</th>\n      <th>relation_id</th>\n      <th>relation_label</th>\n      <th>true_tail_id</th>\n      <th>true_tail_label</th>\n      <th>/people/person/gender</th>\n    </tr>\n    <tr>\n      <th>true_tail_class_label</th>\n      <th></th>\n      <th></th>\n      <th></th>\n      <th></th>\n      <th></th>\n      <th></th>\n    </tr>\n  </thead>\n  <tbody>\n    <tr>\n      <th>0</th>\n      <td>429</td>\n      <td>429</td>\n      <td>429</td>\n      <td>429</td>\n      <td>429</td>\n      <td>429</td>\n    </tr>\n    <tr>\n      <th>1</th>\n      <td>202</td>\n      <td>202</td>\n      <td>202</td>\n      <td>202</td>\n      <td>202</td>\n      <td>202</td>\n    </tr>\n    <tr>\n      <th>2</th>\n      <td>104</td>\n      <td>104</td>\n      <td>104</td>\n      <td>104</td>\n      <td>104</td>\n      <td>104</td>\n    </tr>\n    <tr>\n      <th>3</th>\n      <td>104</td>\n      <td>104</td>\n      <td>104</td>\n      <td>104</td>\n      <td>104</td>\n      <td>104</td>\n    </tr>\n    <tr>\n      <th>4</th>\n      <td>76</td>\n      <td>76</td>\n      <td>76</td>\n      <td>76</td>\n      <td>76</td>\n      <td>76</td>\n    </tr>\n    <tr>\n      <th>5</th>\n      <td>61</td>\n      <td>61</td>\n      <td>61</td>\n      <td>61</td>\n      <td>61</td>\n      <td>61</td>\n    </tr>\n    <tr>\n      <th>6</th>\n      <td>50</td>\n      <td>50</td>\n      <td>50</td>\n      <td>50</td>\n      <td>50</td>\n      <td>50</td>\n    </tr>\n    <tr>\n      <th>7</th>\n      <td>42</td>\n      <td>42</td>\n      <td>42</td>\n      <td>42</td>\n      <td>42</td>\n      <td>42</td>\n    </tr>\n    <tr>\n      <th>8</th>\n      <td>40</td>\n      <td>40</td>\n      <td>40</td>\n      <td>40</td>\n      <td>40</td>\n      <td>40</td>\n    </tr>\n  </tbody>\n</table>\n</div>"
     },
     "execution_count": 39,
     "metadata": {},
     "output_type": "execute_result"
    }
   ],
   "source": [
    "male_gender_only = occupation_facts_FB15k237[occupation_facts_FB15k237['/people/person/gender'] == '/m/05zppz']\n",
    "groupy_occupation_labels_male_gender_only = male_gender_only.groupby('true_tail_class_label')\n",
    "groupy_occupation_labels_male_gender_only.agg('count')"
   ],
   "metadata": {
    "collapsed": false,
    "pycharm": {
     "name": "#%%\n"
    }
   }
  },
  {
   "cell_type": "markdown",
   "source": [
    "Of the gender facts, what is the per class count for female facts? - /m/02zsn\n"
   ],
   "metadata": {
    "collapsed": false,
    "pycharm": {
     "name": "#%% md\n"
    }
   }
  },
  {
   "cell_type": "code",
   "execution_count": 40,
   "outputs": [
    {
     "data": {
      "text/plain": "                       head_id  relation_id  relation_label  true_tail_id  true_tail_label  /people/person/gender\ntrue_tail_class_label                                                                                            \n0                           82           82              82            82               82                     82\n1                           59           59              59            59               59                     59\n2                           12           12              12            12               12                     12\n3                            7            7               7             7                7                      7\n4                            3            3               3             3                3                      3\n5                           10           10              10            10               10                     10\n6                           11           11              11            11               11                     11\n7                            9            9               9             9                9                      9\n8                           10           10              10            10               10                     10",
      "text/html": "<div>\n<style scoped>\n    .dataframe tbody tr th:only-of-type {\n        vertical-align: middle;\n    }\n\n    .dataframe tbody tr th {\n        vertical-align: top;\n    }\n\n    .dataframe thead th {\n        text-align: right;\n    }\n</style>\n<table border=\"1\" class=\"dataframe\">\n  <thead>\n    <tr style=\"text-align: right;\">\n      <th></th>\n      <th>head_id</th>\n      <th>relation_id</th>\n      <th>relation_label</th>\n      <th>true_tail_id</th>\n      <th>true_tail_label</th>\n      <th>/people/person/gender</th>\n    </tr>\n    <tr>\n      <th>true_tail_class_label</th>\n      <th></th>\n      <th></th>\n      <th></th>\n      <th></th>\n      <th></th>\n      <th></th>\n    </tr>\n  </thead>\n  <tbody>\n    <tr>\n      <th>0</th>\n      <td>82</td>\n      <td>82</td>\n      <td>82</td>\n      <td>82</td>\n      <td>82</td>\n      <td>82</td>\n    </tr>\n    <tr>\n      <th>1</th>\n      <td>59</td>\n      <td>59</td>\n      <td>59</td>\n      <td>59</td>\n      <td>59</td>\n      <td>59</td>\n    </tr>\n    <tr>\n      <th>2</th>\n      <td>12</td>\n      <td>12</td>\n      <td>12</td>\n      <td>12</td>\n      <td>12</td>\n      <td>12</td>\n    </tr>\n    <tr>\n      <th>3</th>\n      <td>7</td>\n      <td>7</td>\n      <td>7</td>\n      <td>7</td>\n      <td>7</td>\n      <td>7</td>\n    </tr>\n    <tr>\n      <th>4</th>\n      <td>3</td>\n      <td>3</td>\n      <td>3</td>\n      <td>3</td>\n      <td>3</td>\n      <td>3</td>\n    </tr>\n    <tr>\n      <th>5</th>\n      <td>10</td>\n      <td>10</td>\n      <td>10</td>\n      <td>10</td>\n      <td>10</td>\n      <td>10</td>\n    </tr>\n    <tr>\n      <th>6</th>\n      <td>11</td>\n      <td>11</td>\n      <td>11</td>\n      <td>11</td>\n      <td>11</td>\n      <td>11</td>\n    </tr>\n    <tr>\n      <th>7</th>\n      <td>9</td>\n      <td>9</td>\n      <td>9</td>\n      <td>9</td>\n      <td>9</td>\n      <td>9</td>\n    </tr>\n    <tr>\n      <th>8</th>\n      <td>10</td>\n      <td>10</td>\n      <td>10</td>\n      <td>10</td>\n      <td>10</td>\n      <td>10</td>\n    </tr>\n  </tbody>\n</table>\n</div>"
     },
     "execution_count": 40,
     "metadata": {},
     "output_type": "execute_result"
    }
   ],
   "source": [
    "female_gender_only = occupation_facts_FB15k237[occupation_facts_FB15k237['/people/person/gender'] == '/m/02zsn']\n",
    "groupy_occupation_labels_female_gender_only = female_gender_only.groupby('true_tail_class_label')\n",
    "groupy_occupation_labels_female_gender_only.agg('count')"
   ],
   "metadata": {
    "collapsed": false,
    "pycharm": {
     "name": "#%%\n"
    }
   }
  },
  {
   "cell_type": "code",
   "execution_count": null,
   "outputs": [],
   "source": [],
   "metadata": {
    "collapsed": false,
    "pycharm": {
     "name": "#%%\n"
    }
   }
  },
  {
   "cell_type": "code",
   "execution_count": null,
   "outputs": [],
   "source": [],
   "metadata": {
    "collapsed": false,
    "pycharm": {
     "name": "#%%\n"
    }
   }
  },
  {
   "cell_type": "code",
   "execution_count": null,
   "outputs": [],
   "source": [],
   "metadata": {
    "collapsed": false,
    "pycharm": {
     "name": "#%%\n"
    }
   }
  },
  {
   "cell_type": "code",
   "execution_count": null,
   "outputs": [],
   "source": [],
   "metadata": {
    "collapsed": false,
    "pycharm": {
     "name": "#%%\n"
    }
   }
  }
 ],
 "metadata": {
  "kernelspec": {
   "display_name": "Python 3",
   "language": "python",
   "name": "python3"
  },
  "language_info": {
   "codemirror_mode": {
    "name": "ipython",
    "version": 2
   },
   "file_extension": ".py",
   "mimetype": "text/x-python",
   "name": "python",
   "nbconvert_exporter": "python",
   "pygments_lexer": "ipython2",
   "version": "2.7.6"
  }
 },
 "nbformat": 4,
 "nbformat_minor": 0
}